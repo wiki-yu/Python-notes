{
 "cells": [
  {
   "cell_type": "code",
   "execution_count": 35,
   "metadata": {},
   "outputs": [],
   "source": [
    "import os"
   ]
  },
  {
   "cell_type": "markdown",
   "metadata": {},
   "source": [
    "* os.listdir() which lists all filenames and directories in a given folder path\n",
    "* get the file path with the os.path.join() function, since os.listdir() only returns the names. \n",
    "* To get the absolute path from a relative path you can additionally use the os.path.abspath()."
   ]
  },
  {
   "cell_type": "code",
   "execution_count": 36,
   "metadata": {},
   "outputs": [
    {
     "name": "stdout",
     "output_type": "stream",
     "text": [
      "['1', '2', '3']\n",
      "['./test\\\\1', './test\\\\2', './test\\\\3']\n"
     ]
    }
   ],
   "source": [
    "#set the file folder want to check\n",
    "folder = './test'\n",
    "\n",
    "#os.listdir() only returns the directory names\n",
    "dir_names = os.listdir(folder) \n",
    "print(dir_names)\n",
    "\n",
    "#combine the path and name using slash in Linux or a backslash in Windows is OK\n",
    "#but os.path.join() function makes sure that the code works platform-independently\n",
    "dir_paths = [os.path.join(folder, f) for f in os.listdir(folder)]\n",
    "print(dir_paths)"
   ]
  },
  {
   "cell_type": "markdown",
   "metadata": {},
   "source": [
    "*  get all files and directories recursively\n",
    "* os.walk() function generates the file names in a directory tree by walking the tree either top-down or bottom-up.\n",
    "* walk the file tree bottom up by adding the argument topdown=False to the os.walk()\n",
    "* the os.walk() function uses os.scandir() in the background to increase the speed quite significantly. "
   ]
  },
  {
   "cell_type": "code",
   "execution_count": 37,
   "metadata": {},
   "outputs": [
    {
     "name": "stdout",
     "output_type": "stream",
     "text": [
      "DIRECTORY: ./test\\1\n",
      "DIRECTORY: ./test\\2\n",
      "DIRECTORY: ./test\\3\n",
      "FILE: ./test\\1\\1-1.txt\n",
      "FILE: ./test\\1\\1-2.txt\n",
      "DIRECTORY: ./test\\1\\test\n",
      "FILE: ./test\\1\\test\\test.txt\n",
      "FILE: ./test\\2\\2-1.txt\n",
      "FILE: ./test\\2\\2-2.txt\n",
      "FILE: ./test\\3\\3-1.txt\n",
      "FILE: ./test\\3\\3-2.txt\n"
     ]
    }
   ],
   "source": [
    "for (dir_path, dir_names, file_names) in os.walk('./test'):\n",
    "    for f in file_names:\n",
    "        print('FILE:', os.path.join(dir_path, f))\n",
    "    for d in dir_names:\n",
    "        print('DIRECTORY:', os.path.join(dir_path, d))"
   ]
  },
  {
   "cell_type": "markdown",
   "metadata": {},
   "source": [
    "* Another module that you can use to traverse the file system is the glob module."
   ]
  },
  {
   "cell_type": "code",
   "execution_count": 39,
   "metadata": {},
   "outputs": [
    {
     "name": "stdout",
     "output_type": "stream",
     "text": [
      "['./test/1\\\\1-1.txt', './test/1\\\\1-2.txt']\n"
     ]
    }
   ],
   "source": [
    "import glob\n",
    "filepaths = glob.glob('./test/1/*.txt', recursive=True)\n",
    "print(filepaths)"
   ]
  },
  {
   "cell_type": "code",
   "execution_count": null,
   "metadata": {},
   "outputs": [],
   "source": []
  }
 ],
 "metadata": {
  "kernelspec": {
   "display_name": "Python 3",
   "language": "python",
   "name": "python3"
  },
  "language_info": {
   "codemirror_mode": {
    "name": "ipython",
    "version": 3
   },
   "file_extension": ".py",
   "mimetype": "text/x-python",
   "name": "python",
   "nbconvert_exporter": "python",
   "pygments_lexer": "ipython3",
   "version": "3.7.4"
  }
 },
 "nbformat": 4,
 "nbformat_minor": 2
}
