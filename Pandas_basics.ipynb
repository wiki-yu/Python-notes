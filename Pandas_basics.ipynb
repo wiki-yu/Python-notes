{
  "nbformat": 4,
  "nbformat_minor": 0,
  "metadata": {
    "kernelspec": {
      "display_name": "Python 3",
      "language": "python",
      "name": "python3"
    },
    "language_info": {
      "codemirror_mode": {
        "name": "ipython",
        "version": 3
      },
      "file_extension": ".py",
      "mimetype": "text/x-python",
      "name": "python",
      "nbconvert_exporter": "python",
      "pygments_lexer": "ipython3",
      "version": "3.7.3"
    },
    "colab": {
      "name": "pandas_basics.ipynb",
      "provenance": [],
      "collapsed_sections": []
    }
  },
  "cells": [
    {
      "cell_type": "code",
      "metadata": {
        "id": "pe__iyqjXRvz",
        "colab_type": "code",
        "colab": {}
      },
      "source": [
        "import pandas as pd\n",
        "import numpy as np"
      ],
      "execution_count": 0,
      "outputs": []
    },
    {
      "cell_type": "markdown",
      "metadata": {
        "id": "sjg-l_SqXRv7",
        "colab_type": "text"
      },
      "source": [
        "## 1. DataFrame Notes\n",
        "it is a two-dimensional labeled data structure with columns of potentially different types. "
      ]
    },
    {
      "cell_type": "markdown",
      "metadata": {
        "id": "bk99M1WEPhCP",
        "colab_type": "text"
      },
      "source": [
        "### (1) How to create a dataframe?"
      ]
    },
    {
      "cell_type": "code",
      "metadata": {
        "id": "a9WsaOmjPrVl",
        "colab_type": "code",
        "outputId": "a1ec5252-9c7f-4e29-ca4d-168b5fb88604",
        "colab": {
          "base_uri": "https://localhost:8080/",
          "height": 70
        }
      },
      "source": [
        "# Among the many things that can serve as input to make a ‘DataFrame’, a NumPy ndarray is one of them\n",
        "\n",
        "data = np.array([['', 'Col1', 'Col2'],\n",
        "                ['Row1', 1, 2],\n",
        "                ['Row2', 3, 4]])\n",
        "                \n",
        "print(pd.DataFrame(data=data[1:, 1:],\n",
        "                  index=data[1:, 0],\n",
        "                  columns=data[0, 1:]))"
      ],
      "execution_count": 33,
      "outputs": [
        {
          "output_type": "stream",
          "text": [
            "     Col1 Col2\n",
            "Row1    1    2\n",
            "Row2    3    4\n"
          ],
          "name": "stdout"
        }
      ]
    },
    {
      "cell_type": "code",
      "metadata": {
        "id": "xOHLT7HHfzDN",
        "colab_type": "code",
        "outputId": "b5976f57-604d-4f8b-ae3b-c1165a11b4cb",
        "colab": {
          "base_uri": "https://localhost:8080/",
          "height": 280
        }
      },
      "source": [
        "# comparison\n",
        "\n",
        "my_2darray = np.array([[1, 2, 3], [4, 5, 6]])\n",
        "print(my_2darray)\n",
        "print()\n",
        "\n",
        "my_dict = {1: ['1', '3'], 2:['1', '2'], 3:['2', '4']}\n",
        "print(my_dict)\n",
        "print()\n",
        "\n",
        "my_df = pd.DataFrame(data=[4, 5, 6, 7], index=range(0, 4), columns=['col'])\n",
        "print(my_df)\n",
        "print()\n",
        "\n",
        "my_series = pd.Series({\"Belgium\":\"Brussels\", \"India\":\"New Delhi\", \"China\":\"Beijing\"})\n",
        "print(my_series)"
      ],
      "execution_count": 34,
      "outputs": [
        {
          "output_type": "stream",
          "text": [
            "[[1 2 3]\n",
            " [4 5 6]]\n",
            "\n",
            "{1: ['1', '3'], 2: ['1', '2'], 3: ['2', '4']}\n",
            "\n",
            "   col\n",
            "0    4\n",
            "1    5\n",
            "2    6\n",
            "3    7\n",
            "\n",
            "Belgium     Brussels\n",
            "India      New Delhi\n",
            "China        Beijing\n",
            "dtype: object\n"
          ],
          "name": "stdout"
        }
      ]
    },
    {
      "cell_type": "code",
      "metadata": {
        "id": "f3AKFbn-Hu5g",
        "colab_type": "code",
        "outputId": "026e49d4-8a27-42e2-a620-39f58f7c56ff",
        "colab": {
          "base_uri": "https://localhost:8080/",
          "height": 52
        }
      },
      "source": [
        "# use shape property or the len() function to know more about the dataframe\n",
        "\n",
        "df = pd.DataFrame(np.array([[1, 2, 3], [4, 5, 6]]))\n",
        "print(df.shape)\n",
        "print(len(df.index))"
      ],
      "execution_count": 35,
      "outputs": [
        {
          "output_type": "stream",
          "text": [
            "(2, 3)\n",
            "2\n"
          ],
          "name": "stdout"
        }
      ]
    },
    {
      "cell_type": "markdown",
      "metadata": {
        "id": "pNSiDkoNQEja",
        "colab_type": "text"
      },
      "source": [
        "### (2) DataFrame Operations: Select an Index or Column "
      ]
    },
    {
      "cell_type": "code",
      "metadata": {
        "id": "qLYGBX0OXRwF",
        "colab_type": "code",
        "outputId": "94935fdf-36f1-4021-e917-100604d6d4e4",
        "colab": {
          "base_uri": "https://localhost:8080/",
          "height": 386
        }
      },
      "source": [
        "# selection of index or cloumn from a dataframe, df.iloc[], df.loc, df.ix[]\n",
        "\n",
        "df = pd.DataFrame({\"A\": [1, 2, 3],\n",
        "                   \"B\": [4, 5, 6],\n",
        "                   \"C\": [7, 8, 9]})\n",
        "print(df)\n",
        "print()\n",
        "# print(df[1]) incorrect\n",
        "print(df[1:])\n",
        "print()\n",
        "print(df.iloc[0:1, :])\n",
        "print()\n",
        "print(df.loc[2])\n",
        "print()\n",
        "print(df.loc[:, 'A'])"
      ],
      "execution_count": 8,
      "outputs": [
        {
          "output_type": "stream",
          "text": [
            "   A  B  C\n",
            "0  1  4  7\n",
            "1  2  5  8\n",
            "2  3  6  9\n",
            "\n",
            "   A  B  C\n",
            "1  2  5  8\n",
            "2  3  6  9\n",
            "\n",
            "   A  B  C\n",
            "0  1  4  7\n",
            "\n",
            "A    3\n",
            "B    6\n",
            "C    9\n",
            "Name: 2, dtype: int64\n",
            "\n",
            "0    1\n",
            "1    2\n",
            "2    3\n",
            "Name: A, dtype: int64\n"
          ],
          "name": "stdout"
        }
      ]
    },
    {
      "cell_type": "code",
      "metadata": {
        "id": "JQLvrSftRQeU",
        "colab_type": "code",
        "outputId": "83d01af4-b187-4703-a3f5-45785fc8cdea",
        "colab": {
          "base_uri": "https://localhost:8080/",
          "height": 491
        }
      },
      "source": [
        "# more practice on .loc[], iloc[], ix[]\n",
        "# .loc[] works on labels of your index. \n",
        "# .iloc[] works on the positions in your index. \n",
        "# .ix[] is a more complex case: when the index is integer-based, you pass a label to .ix[]. This is just like .loc[]\n",
        "# .ix[] will work with positions if your index is not solely integer-based, just like .iloc[]\n",
        "\n",
        "df = pd.DataFrame(data=np.array([[1, 2, 3], [4, 5, 6], [7, 8, 9]]), index= [2, 'A', 4], columns=[48, 49, 50])\n",
        "print(df)\n",
        "print()\n",
        "print(df.loc[2])\n",
        "print()\n",
        "print(df.iloc[2])\n",
        "print()\n",
        "print(df.ix[2])"
      ],
      "execution_count": 36,
      "outputs": [
        {
          "output_type": "stream",
          "text": [
            "   48  49  50\n",
            "2   1   2   3\n",
            "A   4   5   6\n",
            "4   7   8   9\n",
            "\n",
            "48    1\n",
            "49    2\n",
            "50    3\n",
            "Name: 2, dtype: int64\n",
            "\n",
            "48    7\n",
            "49    8\n",
            "50    9\n",
            "Name: 4, dtype: int64\n",
            "\n",
            "48    7\n",
            "49    8\n",
            "50    9\n",
            "Name: 4, dtype: int64\n"
          ],
          "name": "stdout"
        },
        {
          "output_type": "stream",
          "text": [
            "/usr/local/lib/python3.6/dist-packages/ipykernel_launcher.py:9: FutureWarning: \n",
            ".ix is deprecated. Please use\n",
            ".loc for label based indexing or\n",
            ".iloc for positional indexing\n",
            "\n",
            "See the documentation here:\n",
            "http://pandas.pydata.org/pandas-docs/stable/user_guide/indexing.html#ix-indexer-is-deprecated\n",
            "  if __name__ == '__main__':\n"
          ],
          "name": "stderr"
        }
      ]
    },
    {
      "cell_type": "markdown",
      "metadata": {
        "id": "GuAG8JZ3Qf_n",
        "colab_type": "text"
      },
      "source": [
        "### (3) DataFrame Operations: Add an Index, Row or Column"
      ]
    },
    {
      "cell_type": "code",
      "metadata": {
        "id": "LcfDdVSPQyJ-",
        "colab_type": "code",
        "outputId": "0317f137-f6f4-4054-ca23-f3ebdf575a52",
        "colab": {
          "base_uri": "https://localhost:8080/",
          "height": 239
        }
      },
      "source": [
        "# reset index\n",
        "# by default, a numerically valued index that starts with 0 and continues until the last row of your DataFrame.\n",
        "# we can re-use one of the columns and make it the new index\n",
        "\n",
        "df = pd.DataFrame({\"A\": [1, 2, 3],\n",
        "                   \"B\": [4, 5, 6],\n",
        "                   \"C\": [7, 8, 9]})\n",
        "print(df)\n",
        "\n",
        "df.set_index('C')"
      ],
      "execution_count": 37,
      "outputs": [
        {
          "output_type": "stream",
          "text": [
            "   A  B  C\n",
            "0  1  4  7\n",
            "1  2  5  8\n",
            "2  3  6  9\n"
          ],
          "name": "stdout"
        },
        {
          "output_type": "execute_result",
          "data": {
            "text/html": [
              "<div>\n",
              "<style scoped>\n",
              "    .dataframe tbody tr th:only-of-type {\n",
              "        vertical-align: middle;\n",
              "    }\n",
              "\n",
              "    .dataframe tbody tr th {\n",
              "        vertical-align: top;\n",
              "    }\n",
              "\n",
              "    .dataframe thead th {\n",
              "        text-align: right;\n",
              "    }\n",
              "</style>\n",
              "<table border=\"1\" class=\"dataframe\">\n",
              "  <thead>\n",
              "    <tr style=\"text-align: right;\">\n",
              "      <th></th>\n",
              "      <th>A</th>\n",
              "      <th>B</th>\n",
              "    </tr>\n",
              "    <tr>\n",
              "      <th>C</th>\n",
              "      <th></th>\n",
              "      <th></th>\n",
              "    </tr>\n",
              "  </thead>\n",
              "  <tbody>\n",
              "    <tr>\n",
              "      <th>7</th>\n",
              "      <td>1</td>\n",
              "      <td>4</td>\n",
              "    </tr>\n",
              "    <tr>\n",
              "      <th>8</th>\n",
              "      <td>2</td>\n",
              "      <td>5</td>\n",
              "    </tr>\n",
              "    <tr>\n",
              "      <th>9</th>\n",
              "      <td>3</td>\n",
              "      <td>6</td>\n",
              "    </tr>\n",
              "  </tbody>\n",
              "</table>\n",
              "</div>"
            ],
            "text/plain": [
              "   A  B\n",
              "C      \n",
              "7  1  4\n",
              "8  2  5\n",
              "9  3  6"
            ]
          },
          "metadata": {
            "tags": []
          },
          "execution_count": 37
        }
      ]
    },
    {
      "cell_type": "code",
      "metadata": {
        "id": "ogRZX7vUYC_f",
        "colab_type": "code",
        "outputId": "4f015be8-645d-4ee2-dfd2-671ea119162e",
        "colab": {
          "base_uri": "https://localhost:8080/",
          "height": 421
        }
      },
      "source": [
        "# adding rows to a DataFrame\n",
        "\n",
        "df = pd.DataFrame(data=np.array([[1, 2, 3], [4, 5, 6], [7, 8, 9]]), index= [2.5, 12.6, 4.8], columns=[48, 49, 50])\n",
        "print(df)\n",
        "print()\n",
        "\n",
        "df.ix[2] = [60, 50, 40] # There's no index labeled `2`, so you will change the index at position `2`\n",
        "print(df)\n",
        "print()\n",
        "\n",
        "df.loc[2] = [11, 12, 13] # This will make an index labeled `2` and add the new values\n",
        "print(df)"
      ],
      "execution_count": 11,
      "outputs": [
        {
          "output_type": "stream",
          "text": [
            "      48  49  50\n",
            "2.5    1   2   3\n",
            "12.6   4   5   6\n",
            "4.8    7   8   9\n",
            "\n",
            "      48  49  50\n",
            "2.5    1   2   3\n",
            "12.6   4   5   6\n",
            "4.8   60  50  40\n",
            "\n",
            "      48  49  50\n",
            "2.5    1   2   3\n",
            "12.6   4   5   6\n",
            "4.8   60  50  40\n",
            "2.0   11  12  13\n"
          ],
          "name": "stdout"
        },
        {
          "output_type": "stream",
          "text": [
            "/usr/local/lib/python3.6/dist-packages/ipykernel_launcher.py:5: FutureWarning: \n",
            ".ix is deprecated. Please use\n",
            ".loc for label based indexing or\n",
            ".iloc for positional indexing\n",
            "\n",
            "See the documentation here:\n",
            "http://pandas.pydata.org/pandas-docs/stable/user_guide/indexing.html#ix-indexer-is-deprecated\n",
            "  \"\"\"\n"
          ],
          "name": "stderr"
        }
      ]
    },
    {
      "cell_type": "code",
      "metadata": {
        "id": "8ciwmLLuYrIM",
        "colab_type": "code",
        "outputId": "ded6b3dc-d769-4943-ac69-3bde13bd9353",
        "colab": {
          "base_uri": "https://localhost:8080/",
          "height": 175
        }
      },
      "source": [
        "# adding columns to a DataFrame\n",
        "\n",
        "df = pd.DataFrame(data=np.array([[1, 2, 3], [4, 5, 6], [7, 8, 9]]), columns=['A', 'B', 'C'])\n",
        "df['D'] = df.index\n",
        "print(df)\n",
        "print()\n",
        "\n",
        "df.loc[:, 'E'] = pd.Series([1, 2, 3], index=df.index)\n",
        "print(df)"
      ],
      "execution_count": 13,
      "outputs": [
        {
          "output_type": "stream",
          "text": [
            "   A  B  C  D\n",
            "0  1  2  3  0\n",
            "1  4  5  6  1\n",
            "2  7  8  9  2\n",
            "\n",
            "   A  B  C  D  E\n",
            "0  1  2  3  0  1\n",
            "1  4  5  6  1  2\n",
            "2  7  8  9  2  3\n"
          ],
          "name": "stdout"
        }
      ]
    },
    {
      "cell_type": "markdown",
      "metadata": {
        "id": "VokmtmWzCyUO",
        "colab_type": "text"
      },
      "source": [
        "### (4) DataFrame Operations: Delete an Index, Row or Column"
      ]
    },
    {
      "cell_type": "code",
      "metadata": {
        "id": "-3P0zKi-Cxbo",
        "colab_type": "code",
        "colab": {
          "base_uri": "https://localhost:8080/",
          "height": 274
        },
        "outputId": "d87eba77-cd3a-45b8-ef72-cbae544c8bab"
      },
      "source": [
        "# deleting an Index from DataFrame\n",
        "\n",
        "df = pd.DataFrame(data=np.array([[1, 2, 3], [4, 5, 6], [7, 8, 9], [40, 50, 60], [23, 35, 37]]), \n",
        "                  index= [2.5, 12.6, 4.8, 4.8, 2.5], \n",
        "                  columns=[48, 49, 50])\n",
        "                  \n",
        "print(df)\n",
        "\n",
        "df.reset_index().drop_duplicates(subset='index', keep='last').set_index('index')\n"
      ],
      "execution_count": 38,
      "outputs": [
        {
          "output_type": "stream",
          "text": [
            "      48  49  50\n",
            "2.5    1   2   3\n",
            "12.6   4   5   6\n",
            "4.8    7   8   9\n",
            "4.8   40  50  60\n",
            "2.5   23  35  37\n"
          ],
          "name": "stdout"
        },
        {
          "output_type": "execute_result",
          "data": {
            "text/html": [
              "<div>\n",
              "<style scoped>\n",
              "    .dataframe tbody tr th:only-of-type {\n",
              "        vertical-align: middle;\n",
              "    }\n",
              "\n",
              "    .dataframe tbody tr th {\n",
              "        vertical-align: top;\n",
              "    }\n",
              "\n",
              "    .dataframe thead th {\n",
              "        text-align: right;\n",
              "    }\n",
              "</style>\n",
              "<table border=\"1\" class=\"dataframe\">\n",
              "  <thead>\n",
              "    <tr style=\"text-align: right;\">\n",
              "      <th></th>\n",
              "      <th>48</th>\n",
              "      <th>49</th>\n",
              "      <th>50</th>\n",
              "    </tr>\n",
              "    <tr>\n",
              "      <th>index</th>\n",
              "      <th></th>\n",
              "      <th></th>\n",
              "      <th></th>\n",
              "    </tr>\n",
              "  </thead>\n",
              "  <tbody>\n",
              "    <tr>\n",
              "      <th>12.6</th>\n",
              "      <td>4</td>\n",
              "      <td>5</td>\n",
              "      <td>6</td>\n",
              "    </tr>\n",
              "    <tr>\n",
              "      <th>4.8</th>\n",
              "      <td>40</td>\n",
              "      <td>50</td>\n",
              "      <td>60</td>\n",
              "    </tr>\n",
              "    <tr>\n",
              "      <th>2.5</th>\n",
              "      <td>23</td>\n",
              "      <td>35</td>\n",
              "      <td>37</td>\n",
              "    </tr>\n",
              "  </tbody>\n",
              "</table>\n",
              "</div>"
            ],
            "text/plain": [
              "       48  49  50\n",
              "index            \n",
              "12.6    4   5   6\n",
              "4.8    40  50  60\n",
              "2.5    23  35  37"
            ]
          },
          "metadata": {
            "tags": []
          },
          "execution_count": 38
        }
      ]
    },
    {
      "cell_type": "code",
      "metadata": {
        "id": "K0CDnRCnDIXF",
        "colab_type": "code",
        "colab": {
          "base_uri": "https://localhost:8080/",
          "height": 279
        },
        "outputId": "537a69be-1ea8-472f-c8a9-ff711629bcab"
      },
      "source": [
        "# deleting a column from DataFrame\n",
        "\n",
        "df = pd.DataFrame({\"A\": [1, 2, 3],\n",
        "                   \"B\": [4, 5, 6],\n",
        "                   \"C\": [7, 8, 9]})\n",
        "print(df)\n",
        "\n",
        "# Drop the column with label 'A'                  \n",
        "df.drop('A', axis=1, inplace=True)\n",
        "\n",
        "print(df)\n",
        "# Drop the column at position 1\n",
        "df.drop(df.columns[[1]], axis=1)"
      ],
      "execution_count": 39,
      "outputs": [
        {
          "output_type": "stream",
          "text": [
            "   A  B  C\n",
            "0  1  4  7\n",
            "1  2  5  8\n",
            "2  3  6  9\n",
            "   B  C\n",
            "0  4  7\n",
            "1  5  8\n",
            "2  6  9\n"
          ],
          "name": "stdout"
        },
        {
          "output_type": "execute_result",
          "data": {
            "text/html": [
              "<div>\n",
              "<style scoped>\n",
              "    .dataframe tbody tr th:only-of-type {\n",
              "        vertical-align: middle;\n",
              "    }\n",
              "\n",
              "    .dataframe tbody tr th {\n",
              "        vertical-align: top;\n",
              "    }\n",
              "\n",
              "    .dataframe thead th {\n",
              "        text-align: right;\n",
              "    }\n",
              "</style>\n",
              "<table border=\"1\" class=\"dataframe\">\n",
              "  <thead>\n",
              "    <tr style=\"text-align: right;\">\n",
              "      <th></th>\n",
              "      <th>B</th>\n",
              "    </tr>\n",
              "  </thead>\n",
              "  <tbody>\n",
              "    <tr>\n",
              "      <th>0</th>\n",
              "      <td>4</td>\n",
              "    </tr>\n",
              "    <tr>\n",
              "      <th>1</th>\n",
              "      <td>5</td>\n",
              "    </tr>\n",
              "    <tr>\n",
              "      <th>2</th>\n",
              "      <td>6</td>\n",
              "    </tr>\n",
              "  </tbody>\n",
              "</table>\n",
              "</div>"
            ],
            "text/plain": [
              "   B\n",
              "0  4\n",
              "1  5\n",
              "2  6"
            ]
          },
          "metadata": {
            "tags": []
          },
          "execution_count": 39
        }
      ]
    },
    {
      "cell_type": "code",
      "metadata": {
        "id": "pl1tfymjDIuc",
        "colab_type": "code",
        "colab": {
          "base_uri": "https://localhost:8080/",
          "height": 305
        },
        "outputId": "4004628b-0fe2-4572-ec38-539835efea8e"
      },
      "source": [
        "df = pd.DataFrame(data=np.array([[1, 2, 3], [4, 5, 6], [7, 8, 9], [40, 50, 60], [23, 35, 37]]), \n",
        "                  index= [2.5, 12.6, 4.8, 4.8, 2.5], \n",
        "                  columns=[48, 49, 50])\n",
        "\n",
        "# Check out your DataFrame `df`\n",
        "print(df)\n",
        "\n",
        "# Drop the duplicates in `df`\n",
        "df.drop_duplicates([48], keep='last')\n",
        "df"
      ],
      "execution_count": 40,
      "outputs": [
        {
          "output_type": "stream",
          "text": [
            "      48  49  50\n",
            "2.5    1   2   3\n",
            "12.6   4   5   6\n",
            "4.8    7   8   9\n",
            "4.8   40  50  60\n",
            "2.5   23  35  37\n"
          ],
          "name": "stdout"
        },
        {
          "output_type": "execute_result",
          "data": {
            "text/html": [
              "<div>\n",
              "<style scoped>\n",
              "    .dataframe tbody tr th:only-of-type {\n",
              "        vertical-align: middle;\n",
              "    }\n",
              "\n",
              "    .dataframe tbody tr th {\n",
              "        vertical-align: top;\n",
              "    }\n",
              "\n",
              "    .dataframe thead th {\n",
              "        text-align: right;\n",
              "    }\n",
              "</style>\n",
              "<table border=\"1\" class=\"dataframe\">\n",
              "  <thead>\n",
              "    <tr style=\"text-align: right;\">\n",
              "      <th></th>\n",
              "      <th>48</th>\n",
              "      <th>49</th>\n",
              "      <th>50</th>\n",
              "    </tr>\n",
              "  </thead>\n",
              "  <tbody>\n",
              "    <tr>\n",
              "      <th>2.5</th>\n",
              "      <td>1</td>\n",
              "      <td>2</td>\n",
              "      <td>3</td>\n",
              "    </tr>\n",
              "    <tr>\n",
              "      <th>12.6</th>\n",
              "      <td>4</td>\n",
              "      <td>5</td>\n",
              "      <td>6</td>\n",
              "    </tr>\n",
              "    <tr>\n",
              "      <th>4.8</th>\n",
              "      <td>7</td>\n",
              "      <td>8</td>\n",
              "      <td>9</td>\n",
              "    </tr>\n",
              "    <tr>\n",
              "      <th>4.8</th>\n",
              "      <td>40</td>\n",
              "      <td>50</td>\n",
              "      <td>60</td>\n",
              "    </tr>\n",
              "    <tr>\n",
              "      <th>2.5</th>\n",
              "      <td>23</td>\n",
              "      <td>35</td>\n",
              "      <td>37</td>\n",
              "    </tr>\n",
              "  </tbody>\n",
              "</table>\n",
              "</div>"
            ],
            "text/plain": [
              "      48  49  50\n",
              "2.5    1   2   3\n",
              "12.6   4   5   6\n",
              "4.8    7   8   9\n",
              "4.8   40  50  60\n",
              "2.5   23  35  37"
            ]
          },
          "metadata": {
            "tags": []
          },
          "execution_count": 40
        }
      ]
    },
    {
      "cell_type": "code",
      "metadata": {
        "id": "o_BVXGlBrxCO",
        "colab_type": "code",
        "colab": {
          "base_uri": "https://localhost:8080/",
          "height": 210
        },
        "outputId": "9a433753-0d96-4d98-d0c3-88dff141abff"
      },
      "source": [
        "# Check out the DataFrame `df`\n",
        "print(df)\n",
        "\n",
        "# Drop the index at position 1\n",
        "print(df.drop(df.index[1]))"
      ],
      "execution_count": 41,
      "outputs": [
        {
          "output_type": "stream",
          "text": [
            "      48  49  50\n",
            "2.5    1   2   3\n",
            "12.6   4   5   6\n",
            "4.8    7   8   9\n",
            "4.8   40  50  60\n",
            "2.5   23  35  37\n",
            "     48  49  50\n",
            "2.5   1   2   3\n",
            "4.8   7   8   9\n",
            "4.8  40  50  60\n",
            "2.5  23  35  37\n"
          ],
          "name": "stdout"
        }
      ]
    },
    {
      "cell_type": "markdown",
      "metadata": {
        "id": "l8KiN8k-r11l",
        "colab_type": "text"
      },
      "source": [
        "### (5)  Rename the Index or Columns of a Pandas DataFrame\n"
      ]
    },
    {
      "cell_type": "code",
      "metadata": {
        "id": "xgLL0y0-r1N9",
        "colab_type": "code",
        "colab": {
          "base_uri": "https://localhost:8080/",
          "height": 209
        },
        "outputId": "5ad6f3a6-22ff-4804-881e-2999227cdb15"
      },
      "source": [
        "df = pd.DataFrame({\"A\": [1, 2, 3],\n",
        "                   \"B\": [4, 5, 6],\n",
        "                   \"C\": [7, 8, 9]})\n",
        "print(df)\n",
        "\n",
        "# Define the new names of your columns\n",
        "newcols = {\n",
        "    'A': 'new_column_1', \n",
        "    'B': 'new_column_2', \n",
        "    'C': 'new_column_3'\n",
        "}\n",
        "\n",
        "# Use `rename()` to rename your columns\n",
        "df.rename(columns=newcols, inplace=True)\n",
        "\n",
        "# Use `rename()` to your index\n",
        "df.rename(index={1: 'a'})"
      ],
      "execution_count": 31,
      "outputs": [
        {
          "output_type": "stream",
          "text": [
            "   A  B  C\n",
            "0  1  4  7\n",
            "1  2  5  8\n",
            "2  3  6  9\n"
          ],
          "name": "stdout"
        },
        {
          "output_type": "execute_result",
          "data": {
            "text/html": [
              "<div>\n",
              "<style scoped>\n",
              "    .dataframe tbody tr th:only-of-type {\n",
              "        vertical-align: middle;\n",
              "    }\n",
              "\n",
              "    .dataframe tbody tr th {\n",
              "        vertical-align: top;\n",
              "    }\n",
              "\n",
              "    .dataframe thead th {\n",
              "        text-align: right;\n",
              "    }\n",
              "</style>\n",
              "<table border=\"1\" class=\"dataframe\">\n",
              "  <thead>\n",
              "    <tr style=\"text-align: right;\">\n",
              "      <th></th>\n",
              "      <th>new_column_1</th>\n",
              "      <th>new_column_2</th>\n",
              "      <th>new_column_3</th>\n",
              "    </tr>\n",
              "  </thead>\n",
              "  <tbody>\n",
              "    <tr>\n",
              "      <th>0</th>\n",
              "      <td>1</td>\n",
              "      <td>4</td>\n",
              "      <td>7</td>\n",
              "    </tr>\n",
              "    <tr>\n",
              "      <th>a</th>\n",
              "      <td>2</td>\n",
              "      <td>5</td>\n",
              "      <td>8</td>\n",
              "    </tr>\n",
              "    <tr>\n",
              "      <th>2</th>\n",
              "      <td>3</td>\n",
              "      <td>6</td>\n",
              "      <td>9</td>\n",
              "    </tr>\n",
              "  </tbody>\n",
              "</table>\n",
              "</div>"
            ],
            "text/plain": [
              "   new_column_1  new_column_2  new_column_3\n",
              "0             1             4             7\n",
              "a             2             5             8\n",
              "2             3             6             9"
            ]
          },
          "metadata": {
            "tags": []
          },
          "execution_count": 31
        }
      ]
    },
    {
      "cell_type": "markdown",
      "metadata": {
        "id": "6TLeyAIMXbe9",
        "colab_type": "text"
      },
      "source": [
        "## 2. Pandas apply\n",
        "* \"apply\" is used when you want to apply a function along the axis of a dataframe.\n",
        "* it accepts a Series whose index is either column (axis=0) or row (axis=1). \n",
        "* For example: df.apply(np.square), it will give a dataframe with number squared.\n",
        "* [Reference: Pandas apply, map and applymap](https://kanoki.org/2019/11/25/pandas-apply-map-and-applymap/)\n",
        "\n"
      ]
    },
    {
      "cell_type": "code",
      "metadata": {
        "id": "BCCiVFLfXjYE",
        "colab_type": "code",
        "outputId": "41f9ce40-9fa8-4bcd-e553-0e8b5d466302",
        "colab": {
          "base_uri": "https://localhost:8080/",
          "height": 139
        }
      },
      "source": [
        "import pandas as pd\n",
        "import numpy as np\n",
        "df = pd.DataFrame({'a' : [ 10,20,30], 'b' : [5,10,15], 'c' : [10,100,1000]}, index=['r1','r2','r3'])\n",
        "df"
      ],
      "execution_count": 16,
      "outputs": [
        {
          "output_type": "execute_result",
          "data": {
            "text/html": [
              "<div>\n",
              "<style scoped>\n",
              "    .dataframe tbody tr th:only-of-type {\n",
              "        vertical-align: middle;\n",
              "    }\n",
              "\n",
              "    .dataframe tbody tr th {\n",
              "        vertical-align: top;\n",
              "    }\n",
              "\n",
              "    .dataframe thead th {\n",
              "        text-align: right;\n",
              "    }\n",
              "</style>\n",
              "<table border=\"1\" class=\"dataframe\">\n",
              "  <thead>\n",
              "    <tr style=\"text-align: right;\">\n",
              "      <th></th>\n",
              "      <th>a</th>\n",
              "      <th>b</th>\n",
              "      <th>c</th>\n",
              "    </tr>\n",
              "  </thead>\n",
              "  <tbody>\n",
              "    <tr>\n",
              "      <th>r1</th>\n",
              "      <td>10</td>\n",
              "      <td>5</td>\n",
              "      <td>10</td>\n",
              "    </tr>\n",
              "    <tr>\n",
              "      <th>r2</th>\n",
              "      <td>20</td>\n",
              "      <td>10</td>\n",
              "      <td>100</td>\n",
              "    </tr>\n",
              "    <tr>\n",
              "      <th>r3</th>\n",
              "      <td>30</td>\n",
              "      <td>15</td>\n",
              "      <td>1000</td>\n",
              "    </tr>\n",
              "  </tbody>\n",
              "</table>\n",
              "</div>"
            ],
            "text/plain": [
              "     a   b     c\n",
              "r1  10   5    10\n",
              "r2  20  10   100\n",
              "r3  30  15  1000"
            ]
          },
          "metadata": {
            "tags": []
          },
          "execution_count": 16
        }
      ]
    },
    {
      "cell_type": "code",
      "metadata": {
        "id": "T2hZFVfOXl_E",
        "colab_type": "code",
        "colab": {}
      },
      "source": [
        "def multiply_by_2(col):\n",
        "    return col * 2\n",
        "\n",
        "def multiply_col1_col2(col):\n",
        "    return col['a'] * col['b']"
      ],
      "execution_count": 0,
      "outputs": []
    },
    {
      "cell_type": "code",
      "metadata": {
        "id": "2rsQKPjRX45r",
        "colab_type": "code",
        "outputId": "1bc82066-6bec-4c22-ba52-d4facd0358af",
        "colab": {
          "base_uri": "https://localhost:8080/",
          "height": 139
        }
      },
      "source": [
        "df.apply(multiply_by_2)"
      ],
      "execution_count": 18,
      "outputs": [
        {
          "output_type": "execute_result",
          "data": {
            "text/html": [
              "<div>\n",
              "<style scoped>\n",
              "    .dataframe tbody tr th:only-of-type {\n",
              "        vertical-align: middle;\n",
              "    }\n",
              "\n",
              "    .dataframe tbody tr th {\n",
              "        vertical-align: top;\n",
              "    }\n",
              "\n",
              "    .dataframe thead th {\n",
              "        text-align: right;\n",
              "    }\n",
              "</style>\n",
              "<table border=\"1\" class=\"dataframe\">\n",
              "  <thead>\n",
              "    <tr style=\"text-align: right;\">\n",
              "      <th></th>\n",
              "      <th>a</th>\n",
              "      <th>b</th>\n",
              "      <th>c</th>\n",
              "    </tr>\n",
              "  </thead>\n",
              "  <tbody>\n",
              "    <tr>\n",
              "      <th>r1</th>\n",
              "      <td>20</td>\n",
              "      <td>10</td>\n",
              "      <td>20</td>\n",
              "    </tr>\n",
              "    <tr>\n",
              "      <th>r2</th>\n",
              "      <td>40</td>\n",
              "      <td>20</td>\n",
              "      <td>200</td>\n",
              "    </tr>\n",
              "    <tr>\n",
              "      <th>r3</th>\n",
              "      <td>60</td>\n",
              "      <td>30</td>\n",
              "      <td>2000</td>\n",
              "    </tr>\n",
              "  </tbody>\n",
              "</table>\n",
              "</div>"
            ],
            "text/plain": [
              "     a   b     c\n",
              "r1  20  10    20\n",
              "r2  40  20   200\n",
              "r3  60  30  2000"
            ]
          },
          "metadata": {
            "tags": []
          },
          "execution_count": 18
        }
      ]
    },
    {
      "cell_type": "code",
      "metadata": {
        "id": "MfoFCEB4YAeL",
        "colab_type": "code",
        "outputId": "c26f3775-3c00-475a-badc-0927aed072c5",
        "colab": {
          "base_uri": "https://localhost:8080/",
          "height": 87
        }
      },
      "source": [
        "df.apply(multiply_col1_col2, axis=1)"
      ],
      "execution_count": 19,
      "outputs": [
        {
          "output_type": "execute_result",
          "data": {
            "text/plain": [
              "r1     50\n",
              "r2    200\n",
              "r3    450\n",
              "dtype: int64"
            ]
          },
          "metadata": {
            "tags": []
          },
          "execution_count": 19
        }
      ]
    },
    {
      "cell_type": "code",
      "metadata": {
        "id": "bcYTjqAYYWg3",
        "colab_type": "code",
        "outputId": "10de055b-e03b-49b0-c0f5-09b50e01d3b3",
        "colab": {
          "base_uri": "https://localhost:8080/",
          "height": 139
        }
      },
      "source": [
        "df['col1Xcol2'] = df.apply(multiply_col1_col2, axis=1)\n",
        "df"
      ],
      "execution_count": 20,
      "outputs": [
        {
          "output_type": "execute_result",
          "data": {
            "text/html": [
              "<div>\n",
              "<style scoped>\n",
              "    .dataframe tbody tr th:only-of-type {\n",
              "        vertical-align: middle;\n",
              "    }\n",
              "\n",
              "    .dataframe tbody tr th {\n",
              "        vertical-align: top;\n",
              "    }\n",
              "\n",
              "    .dataframe thead th {\n",
              "        text-align: right;\n",
              "    }\n",
              "</style>\n",
              "<table border=\"1\" class=\"dataframe\">\n",
              "  <thead>\n",
              "    <tr style=\"text-align: right;\">\n",
              "      <th></th>\n",
              "      <th>a</th>\n",
              "      <th>b</th>\n",
              "      <th>c</th>\n",
              "      <th>col1Xcol2</th>\n",
              "    </tr>\n",
              "  </thead>\n",
              "  <tbody>\n",
              "    <tr>\n",
              "      <th>r1</th>\n",
              "      <td>10</td>\n",
              "      <td>5</td>\n",
              "      <td>10</td>\n",
              "      <td>50</td>\n",
              "    </tr>\n",
              "    <tr>\n",
              "      <th>r2</th>\n",
              "      <td>20</td>\n",
              "      <td>10</td>\n",
              "      <td>100</td>\n",
              "      <td>200</td>\n",
              "    </tr>\n",
              "    <tr>\n",
              "      <th>r3</th>\n",
              "      <td>30</td>\n",
              "      <td>15</td>\n",
              "      <td>1000</td>\n",
              "      <td>450</td>\n",
              "    </tr>\n",
              "  </tbody>\n",
              "</table>\n",
              "</div>"
            ],
            "text/plain": [
              "     a   b     c  col1Xcol2\n",
              "r1  10   5    10         50\n",
              "r2  20  10   100        200\n",
              "r3  30  15  1000        450"
            ]
          },
          "metadata": {
            "tags": []
          },
          "execution_count": 20
        }
      ]
    },
    {
      "cell_type": "code",
      "metadata": {
        "id": "g2N7yUUlb-bi",
        "colab_type": "code",
        "outputId": "3f8cd13f-edfb-4187-c5d8-353a01286178",
        "colab": {
          "base_uri": "https://localhost:8080/",
          "height": 87
        }
      },
      "source": [
        "df.apply(lambda x: x['a'] * x['b'], axis=1)"
      ],
      "execution_count": 21,
      "outputs": [
        {
          "output_type": "execute_result",
          "data": {
            "text/plain": [
              "r1     50\n",
              "r2    200\n",
              "r3    450\n",
              "dtype: int64"
            ]
          },
          "metadata": {
            "tags": []
          },
          "execution_count": 21
        }
      ]
    }
  ]
}