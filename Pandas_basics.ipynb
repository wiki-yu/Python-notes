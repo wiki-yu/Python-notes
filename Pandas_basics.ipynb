{
  "nbformat": 4,
  "nbformat_minor": 0,
  "metadata": {
    "kernelspec": {
      "display_name": "Python 3",
      "language": "python",
      "name": "python3"
    },
    "language_info": {
      "codemirror_mode": {
        "name": "ipython",
        "version": 3
      },
      "file_extension": ".py",
      "mimetype": "text/x-python",
      "name": "python",
      "nbconvert_exporter": "python",
      "pygments_lexer": "ipython3",
      "version": "3.7.3"
    },
    "colab": {
      "name": "pandas_basics.ipynb",
      "provenance": [],
      "collapsed_sections": []
    }
  },
  "cells": [
    {
      "cell_type": "code",
      "metadata": {
        "id": "pe__iyqjXRvz",
        "colab_type": "code",
        "colab": {}
      },
      "source": [
        "import pandas as pd\n",
        "import numpy as np"
      ],
      "execution_count": 0,
      "outputs": []
    },
    {
      "cell_type": "markdown",
      "metadata": {
        "id": "sjg-l_SqXRv7",
        "colab_type": "text"
      },
      "source": [
        "## 1. DataFrame Notes\n",
        "it is a two-dimensional labeled data structure with columns of potentially different types. "
      ]
    },
    {
      "cell_type": "markdown",
      "metadata": {
        "id": "bk99M1WEPhCP",
        "colab_type": "text"
      },
      "source": [
        "### (1) How to create a dataframe?"
      ]
    },
    {
      "cell_type": "code",
      "metadata": {
        "id": "a9WsaOmjPrVl",
        "colab_type": "code",
        "colab": {
          "base_uri": "https://localhost:8080/",
          "height": 70
        },
        "outputId": "5fda7fe2-0c2d-4f06-f77e-2b6b17496e4c"
      },
      "source": [
        "# Among the many things that can serve as input to make a ‘DataFrame’, a NumPy ndarray is one of them\n",
        "\n",
        "data = np.array([['','Col1','Col2'],\n",
        "                ['Row1',1,2],\n",
        "                ['Row2',3,4]])\n",
        "                \n",
        "print(pd.DataFrame(data=data[1:,1:],\n",
        "                  index=data[1:,0],\n",
        "                  columns=data[0,1:]))"
      ],
      "execution_count": 57,
      "outputs": [
        {
          "output_type": "stream",
          "text": [
            "     Col1 Col2\n",
            "Row1    1    2\n",
            "Row2    3    4\n"
          ],
          "name": "stdout"
        }
      ]
    },
    {
      "cell_type": "code",
      "metadata": {
        "id": "xOHLT7HHfzDN",
        "colab_type": "code",
        "outputId": "1ceac00a-c7fd-413d-f5c6-508567a4dc33",
        "colab": {
          "base_uri": "https://localhost:8080/",
          "height": 280
        }
      },
      "source": [
        "# comparison\n",
        "\n",
        "my_2darray = np.array([[1, 2, 3], [4, 5, 6]])\n",
        "print(my_2darray)\n",
        "print()\n",
        "\n",
        "my_dict = {1: ['1', '3'], 2:['1', '2'], 3:['2', '4']}\n",
        "print(my_dict)\n",
        "print()\n",
        "\n",
        "my_df = pd.DataFrame(data=[4, 5, 6, 7], index=range(0, 4), columns=['col'])\n",
        "print(my_df)\n",
        "print()\n",
        "\n",
        "my_series = pd.Series({\"Belgium\":\"Brussels\", \"India\":\"New Delhi\", \"China\":\"Beijing\"})\n",
        "print(my_series)"
      ],
      "execution_count": 58,
      "outputs": [
        {
          "output_type": "stream",
          "text": [
            "[[1 2 3]\n",
            " [4 5 6]]\n",
            "\n",
            "{1: ['1', '3'], 2: ['1', '2'], 3: ['2', '4']}\n",
            "\n",
            "   col\n",
            "0    4\n",
            "1    5\n",
            "2    6\n",
            "3    7\n",
            "\n",
            "Belgium     Brussels\n",
            "India      New Delhi\n",
            "China        Beijing\n",
            "dtype: object\n"
          ],
          "name": "stdout"
        }
      ]
    },
    {
      "cell_type": "code",
      "metadata": {
        "id": "f3AKFbn-Hu5g",
        "colab_type": "code",
        "colab": {
          "base_uri": "https://localhost:8080/",
          "height": 52
        },
        "outputId": "7416240c-965d-4782-fc46-394ea382e8d8"
      },
      "source": [
        "# use shape property or the len() function to know more about the dataframe\n",
        "\n",
        "df = pd.DataFrame(np.array([[1, 2, 3], [4, 5, 6]]))\n",
        "print(df.shape)\n",
        "print(len(df.index))"
      ],
      "execution_count": 59,
      "outputs": [
        {
          "output_type": "stream",
          "text": [
            "(2, 3)\n",
            "2\n"
          ],
          "name": "stdout"
        }
      ]
    },
    {
      "cell_type": "markdown",
      "metadata": {
        "id": "pNSiDkoNQEja",
        "colab_type": "text"
      },
      "source": [
        "### (2) DataFrame Operations: Select an Index or Column "
      ]
    },
    {
      "cell_type": "code",
      "metadata": {
        "id": "qLYGBX0OXRwF",
        "colab_type": "code",
        "outputId": "13010a07-37b1-4b5a-b473-fec2530efe85",
        "colab": {
          "base_uri": "https://localhost:8080/",
          "height": 386
        }
      },
      "source": [
        "# selection of index or cloumn from a dataframe, df.iloc[], df.loc, df.ix[]\n",
        "\n",
        "df = pd.DataFrame({\"A\": [1, 2, 3],\n",
        "                   \"B\": [4, 5, 6],\n",
        "                   \"C\": [7, 8, 9]})\n",
        "print(df)\n",
        "print()\n",
        "# print(df[1]) incorrect\n",
        "print(df[1:])\n",
        "print()\n",
        "print(df.iloc[0:1, :])\n",
        "print()\n",
        "print(df.loc[2])\n",
        "print()\n",
        "print(df.loc[:, 'A'])"
      ],
      "execution_count": 47,
      "outputs": [
        {
          "output_type": "stream",
          "text": [
            "   A  B  C\n",
            "0  1  4  7\n",
            "1  2  5  8\n",
            "2  3  6  9\n",
            "\n",
            "   A  B  C\n",
            "1  2  5  8\n",
            "2  3  6  9\n",
            "\n",
            "   A  B  C\n",
            "0  1  4  7\n",
            "\n",
            "A    3\n",
            "B    6\n",
            "C    9\n",
            "Name: 2, dtype: int64\n",
            "\n",
            "0    1\n",
            "1    2\n",
            "2    3\n",
            "Name: A, dtype: int64\n"
          ],
          "name": "stdout"
        }
      ]
    },
    {
      "cell_type": "code",
      "metadata": {
        "id": "JQLvrSftRQeU",
        "colab_type": "code",
        "colab": {
          "base_uri": "https://localhost:8080/",
          "height": 491
        },
        "outputId": "2c50a91f-2eb8-4453-d10e-38883a4518e3"
      },
      "source": [
        "# more practice on .loc[], iloc[], ix[]\n",
        "# .loc[] works on labels of your index. \n",
        "# .iloc[] works on the positions in your index. \n",
        "# .ix[] is a more complex case: when the index is integer-based, you pass a label to .ix[]. This is just like .loc[]\n",
        "# .ix[] will work with positions if your index is not solely integer-based, just like .iloc[]\n",
        "\n",
        "df = pd.DataFrame(data=np.array([[1, 2, 3], [4, 5, 6], [7, 8, 9]]), index= [2, 'A', 4], columns=[48, 49, 50])\n",
        "print(df)\n",
        "print()\n",
        "print(df.loc[2])\n",
        "print()\n",
        "print(df.iloc[2])\n",
        "print()\n",
        "print(df.ix[2])"
      ],
      "execution_count": 63,
      "outputs": [
        {
          "output_type": "stream",
          "text": [
            "   48  49  50\n",
            "2   1   2   3\n",
            "A   4   5   6\n",
            "4   7   8   9\n",
            "\n",
            "48    1\n",
            "49    2\n",
            "50    3\n",
            "Name: 2, dtype: int64\n",
            "\n",
            "48    7\n",
            "49    8\n",
            "50    9\n",
            "Name: 4, dtype: int64\n",
            "\n",
            "48    7\n",
            "49    8\n",
            "50    9\n",
            "Name: 4, dtype: int64\n"
          ],
          "name": "stdout"
        },
        {
          "output_type": "stream",
          "text": [
            "/usr/local/lib/python3.6/dist-packages/ipykernel_launcher.py:9: FutureWarning: \n",
            ".ix is deprecated. Please use\n",
            ".loc for label based indexing or\n",
            ".iloc for positional indexing\n",
            "\n",
            "See the documentation here:\n",
            "http://pandas.pydata.org/pandas-docs/stable/user_guide/indexing.html#ix-indexer-is-deprecated\n",
            "  if __name__ == '__main__':\n"
          ],
          "name": "stderr"
        }
      ]
    },
    {
      "cell_type": "markdown",
      "metadata": {
        "id": "GuAG8JZ3Qf_n",
        "colab_type": "text"
      },
      "source": [
        "### (3) DataFrame Operations: Add an Index, Row or Column"
      ]
    },
    {
      "cell_type": "code",
      "metadata": {
        "id": "LcfDdVSPQyJ-",
        "colab_type": "code",
        "colab": {
          "base_uri": "https://localhost:8080/",
          "height": 239
        },
        "outputId": "a13c6386-30e4-4932-84fa-f3855d0a9b71"
      },
      "source": [
        "# reset index\n",
        "# by default, a numerically valued index that starts with 0 and continues until the last row of your DataFrame.\n",
        "# we can re-use one of the columns and make it the new index\n",
        "\n",
        "df = pd.DataFrame({\"A\": [1, 2, 3],\n",
        "                   \"B\": [4, 5, 6],\n",
        "                   \"C\": [7, 8, 9]})\n",
        "print(df)\n",
        "\n",
        "df.set_index('C')"
      ],
      "execution_count": 61,
      "outputs": [
        {
          "output_type": "stream",
          "text": [
            "   A  B  C\n",
            "0  1  4  7\n",
            "1  2  5  8\n",
            "2  3  6  9\n"
          ],
          "name": "stdout"
        },
        {
          "output_type": "execute_result",
          "data": {
            "text/html": [
              "<div>\n",
              "<style scoped>\n",
              "    .dataframe tbody tr th:only-of-type {\n",
              "        vertical-align: middle;\n",
              "    }\n",
              "\n",
              "    .dataframe tbody tr th {\n",
              "        vertical-align: top;\n",
              "    }\n",
              "\n",
              "    .dataframe thead th {\n",
              "        text-align: right;\n",
              "    }\n",
              "</style>\n",
              "<table border=\"1\" class=\"dataframe\">\n",
              "  <thead>\n",
              "    <tr style=\"text-align: right;\">\n",
              "      <th></th>\n",
              "      <th>A</th>\n",
              "      <th>B</th>\n",
              "    </tr>\n",
              "    <tr>\n",
              "      <th>C</th>\n",
              "      <th></th>\n",
              "      <th></th>\n",
              "    </tr>\n",
              "  </thead>\n",
              "  <tbody>\n",
              "    <tr>\n",
              "      <th>7</th>\n",
              "      <td>1</td>\n",
              "      <td>4</td>\n",
              "    </tr>\n",
              "    <tr>\n",
              "      <th>8</th>\n",
              "      <td>2</td>\n",
              "      <td>5</td>\n",
              "    </tr>\n",
              "    <tr>\n",
              "      <th>9</th>\n",
              "      <td>3</td>\n",
              "      <td>6</td>\n",
              "    </tr>\n",
              "  </tbody>\n",
              "</table>\n",
              "</div>"
            ],
            "text/plain": [
              "   A  B\n",
              "C      \n",
              "7  1  4\n",
              "8  2  5\n",
              "9  3  6"
            ]
          },
          "metadata": {
            "tags": []
          },
          "execution_count": 61
        }
      ]
    },
    {
      "cell_type": "code",
      "metadata": {
        "id": "ogRZX7vUYC_f",
        "colab_type": "code",
        "colab": {
          "base_uri": "https://localhost:8080/",
          "height": 421
        },
        "outputId": "13b38d05-41d5-4db9-af0c-c962faf909eb"
      },
      "source": [
        "# adding rows to a DataFrame\n",
        "\n",
        "df = pd.DataFrame(data=np.array([[1, 2, 3], [4, 5, 6], [7, 8, 9]]), index= [2.5, 12.6, 4.8], columns=[48, 49, 50])\n",
        "print(df)\n",
        "print()\n",
        "df.ix[2] = [60, 50, 40] # There's no index labeled `2`, so you will change the index at position `2`\n",
        "print(df)\n",
        "print()\n",
        "df.loc[2] = [11, 12, 13] # This will make an index labeled `2` and add the new values\n",
        "print(df)"
      ],
      "execution_count": 52,
      "outputs": [
        {
          "output_type": "stream",
          "text": [
            "      48  49  50\n",
            "2.5    1   2   3\n",
            "12.6   4   5   6\n",
            "4.8    7   8   9\n",
            "\n",
            "      48  49  50\n",
            "2.5    1   2   3\n",
            "12.6   4   5   6\n",
            "4.8   60  50  40\n",
            "\n",
            "      48  49  50\n",
            "2.5    1   2   3\n",
            "12.6   4   5   6\n",
            "4.8   60  50  40\n",
            "2.0   11  12  13\n"
          ],
          "name": "stdout"
        },
        {
          "output_type": "stream",
          "text": [
            "/usr/local/lib/python3.6/dist-packages/ipykernel_launcher.py:5: FutureWarning: \n",
            ".ix is deprecated. Please use\n",
            ".loc for label based indexing or\n",
            ".iloc for positional indexing\n",
            "\n",
            "See the documentation here:\n",
            "http://pandas.pydata.org/pandas-docs/stable/user_guide/indexing.html#ix-indexer-is-deprecated\n",
            "  \"\"\"\n"
          ],
          "name": "stderr"
        }
      ]
    },
    {
      "cell_type": "code",
      "metadata": {
        "id": "8ciwmLLuYrIM",
        "colab_type": "code",
        "colab": {
          "base_uri": "https://localhost:8080/",
          "height": 175
        },
        "outputId": "34424a2b-864e-4b74-dc4c-4f7b3153a32e"
      },
      "source": [
        "# adding columns to a DataFrame\n",
        "\n",
        "df = pd.DataFrame(data=np.array([[1, 2, 3], [4, 5, 6], [7, 8, 9]]), columns=['A', 'B', 'C'])\n",
        "df['D'] = df.index\n",
        "print(df)\n",
        "print()\n",
        "df.loc[:, 'E'] = pd.Series([1, 2, 3], index=df.index)\n",
        "print(df)"
      ],
      "execution_count": 64,
      "outputs": [
        {
          "output_type": "stream",
          "text": [
            "   A  B  C  D\n",
            "0  1  2  3  0\n",
            "1  4  5  6  1\n",
            "2  7  8  9  2\n",
            "\n",
            "   A  B  C  D  E\n",
            "0  1  2  3  0  1\n",
            "1  4  5  6  1  2\n",
            "2  7  8  9  2  3\n"
          ],
          "name": "stdout"
        }
      ]
    },
    {
      "cell_type": "markdown",
      "metadata": {
        "id": "6TLeyAIMXbe9",
        "colab_type": "text"
      },
      "source": [
        "## 2. Pandas apply\n",
        "* \"apply\" is used when you want to apply a function along the axis of a dataframe.\n",
        "* it accepts a Series whose index is either column (axis=0) or row (axis=1). \n",
        "* For example: df.apply(np.square), it will give a dataframe with number squared.\n",
        "* [Reference: Pandas apply, map and applymap](https://kanoki.org/2019/11/25/pandas-apply-map-and-applymap/)\n",
        "\n"
      ]
    },
    {
      "cell_type": "code",
      "metadata": {
        "id": "BCCiVFLfXjYE",
        "colab_type": "code",
        "outputId": "27807793-4e96-454a-f9d7-f5542dae2f66",
        "colab": {
          "base_uri": "https://localhost:8080/",
          "height": 139
        }
      },
      "source": [
        "import pandas as pd\n",
        "import numpy as np\n",
        "df = pd.DataFrame({'a' : [ 10,20,30], 'b' : [5,10,15], 'c' : [10,100,1000]}, index=['r1','r2','r3'])\n",
        "df"
      ],
      "execution_count": 16,
      "outputs": [
        {
          "output_type": "execute_result",
          "data": {
            "text/html": [
              "<div>\n",
              "<style scoped>\n",
              "    .dataframe tbody tr th:only-of-type {\n",
              "        vertical-align: middle;\n",
              "    }\n",
              "\n",
              "    .dataframe tbody tr th {\n",
              "        vertical-align: top;\n",
              "    }\n",
              "\n",
              "    .dataframe thead th {\n",
              "        text-align: right;\n",
              "    }\n",
              "</style>\n",
              "<table border=\"1\" class=\"dataframe\">\n",
              "  <thead>\n",
              "    <tr style=\"text-align: right;\">\n",
              "      <th></th>\n",
              "      <th>a</th>\n",
              "      <th>b</th>\n",
              "      <th>c</th>\n",
              "    </tr>\n",
              "  </thead>\n",
              "  <tbody>\n",
              "    <tr>\n",
              "      <th>r1</th>\n",
              "      <td>10</td>\n",
              "      <td>5</td>\n",
              "      <td>10</td>\n",
              "    </tr>\n",
              "    <tr>\n",
              "      <th>r2</th>\n",
              "      <td>20</td>\n",
              "      <td>10</td>\n",
              "      <td>100</td>\n",
              "    </tr>\n",
              "    <tr>\n",
              "      <th>r3</th>\n",
              "      <td>30</td>\n",
              "      <td>15</td>\n",
              "      <td>1000</td>\n",
              "    </tr>\n",
              "  </tbody>\n",
              "</table>\n",
              "</div>"
            ],
            "text/plain": [
              "     a   b     c\n",
              "r1  10   5    10\n",
              "r2  20  10   100\n",
              "r3  30  15  1000"
            ]
          },
          "metadata": {
            "tags": []
          },
          "execution_count": 16
        }
      ]
    },
    {
      "cell_type": "code",
      "metadata": {
        "id": "T2hZFVfOXl_E",
        "colab_type": "code",
        "colab": {}
      },
      "source": [
        "def multiply_by_2(col):\n",
        "    return col * 2\n",
        "\n",
        "def multiply_col1_col2(col):\n",
        "    return col['a'] * col['b']"
      ],
      "execution_count": 0,
      "outputs": []
    },
    {
      "cell_type": "code",
      "metadata": {
        "id": "2rsQKPjRX45r",
        "colab_type": "code",
        "outputId": "883a3f48-0a8d-4051-d76f-dea2d98a1e78",
        "colab": {
          "base_uri": "https://localhost:8080/",
          "height": 139
        }
      },
      "source": [
        "df.apply(multiply_by_2)"
      ],
      "execution_count": 18,
      "outputs": [
        {
          "output_type": "execute_result",
          "data": {
            "text/html": [
              "<div>\n",
              "<style scoped>\n",
              "    .dataframe tbody tr th:only-of-type {\n",
              "        vertical-align: middle;\n",
              "    }\n",
              "\n",
              "    .dataframe tbody tr th {\n",
              "        vertical-align: top;\n",
              "    }\n",
              "\n",
              "    .dataframe thead th {\n",
              "        text-align: right;\n",
              "    }\n",
              "</style>\n",
              "<table border=\"1\" class=\"dataframe\">\n",
              "  <thead>\n",
              "    <tr style=\"text-align: right;\">\n",
              "      <th></th>\n",
              "      <th>a</th>\n",
              "      <th>b</th>\n",
              "      <th>c</th>\n",
              "    </tr>\n",
              "  </thead>\n",
              "  <tbody>\n",
              "    <tr>\n",
              "      <th>r1</th>\n",
              "      <td>20</td>\n",
              "      <td>10</td>\n",
              "      <td>20</td>\n",
              "    </tr>\n",
              "    <tr>\n",
              "      <th>r2</th>\n",
              "      <td>40</td>\n",
              "      <td>20</td>\n",
              "      <td>200</td>\n",
              "    </tr>\n",
              "    <tr>\n",
              "      <th>r3</th>\n",
              "      <td>60</td>\n",
              "      <td>30</td>\n",
              "      <td>2000</td>\n",
              "    </tr>\n",
              "  </tbody>\n",
              "</table>\n",
              "</div>"
            ],
            "text/plain": [
              "     a   b     c\n",
              "r1  20  10    20\n",
              "r2  40  20   200\n",
              "r3  60  30  2000"
            ]
          },
          "metadata": {
            "tags": []
          },
          "execution_count": 18
        }
      ]
    },
    {
      "cell_type": "code",
      "metadata": {
        "id": "MfoFCEB4YAeL",
        "colab_type": "code",
        "outputId": "d5c52694-9402-4cec-a6ca-00d882e9cf8b",
        "colab": {
          "base_uri": "https://localhost:8080/",
          "height": 87
        }
      },
      "source": [
        "df.apply(multiply_col1_col2, axis=1)"
      ],
      "execution_count": 19,
      "outputs": [
        {
          "output_type": "execute_result",
          "data": {
            "text/plain": [
              "r1     50\n",
              "r2    200\n",
              "r3    450\n",
              "dtype: int64"
            ]
          },
          "metadata": {
            "tags": []
          },
          "execution_count": 19
        }
      ]
    },
    {
      "cell_type": "code",
      "metadata": {
        "id": "bcYTjqAYYWg3",
        "colab_type": "code",
        "outputId": "a356a5ff-754e-4dc7-deae-3455d546ce7e",
        "colab": {
          "base_uri": "https://localhost:8080/",
          "height": 139
        }
      },
      "source": [
        "df['col1Xcol2'] = df.apply(multiply_col1_col2, axis=1)\n",
        "df"
      ],
      "execution_count": 20,
      "outputs": [
        {
          "output_type": "execute_result",
          "data": {
            "text/html": [
              "<div>\n",
              "<style scoped>\n",
              "    .dataframe tbody tr th:only-of-type {\n",
              "        vertical-align: middle;\n",
              "    }\n",
              "\n",
              "    .dataframe tbody tr th {\n",
              "        vertical-align: top;\n",
              "    }\n",
              "\n",
              "    .dataframe thead th {\n",
              "        text-align: right;\n",
              "    }\n",
              "</style>\n",
              "<table border=\"1\" class=\"dataframe\">\n",
              "  <thead>\n",
              "    <tr style=\"text-align: right;\">\n",
              "      <th></th>\n",
              "      <th>a</th>\n",
              "      <th>b</th>\n",
              "      <th>c</th>\n",
              "      <th>col1Xcol2</th>\n",
              "    </tr>\n",
              "  </thead>\n",
              "  <tbody>\n",
              "    <tr>\n",
              "      <th>r1</th>\n",
              "      <td>10</td>\n",
              "      <td>5</td>\n",
              "      <td>10</td>\n",
              "      <td>50</td>\n",
              "    </tr>\n",
              "    <tr>\n",
              "      <th>r2</th>\n",
              "      <td>20</td>\n",
              "      <td>10</td>\n",
              "      <td>100</td>\n",
              "      <td>200</td>\n",
              "    </tr>\n",
              "    <tr>\n",
              "      <th>r3</th>\n",
              "      <td>30</td>\n",
              "      <td>15</td>\n",
              "      <td>1000</td>\n",
              "      <td>450</td>\n",
              "    </tr>\n",
              "  </tbody>\n",
              "</table>\n",
              "</div>"
            ],
            "text/plain": [
              "     a   b     c  col1Xcol2\n",
              "r1  10   5    10         50\n",
              "r2  20  10   100        200\n",
              "r3  30  15  1000        450"
            ]
          },
          "metadata": {
            "tags": []
          },
          "execution_count": 20
        }
      ]
    },
    {
      "cell_type": "code",
      "metadata": {
        "id": "g2N7yUUlb-bi",
        "colab_type": "code",
        "outputId": "c5748e82-636c-41ed-e5ec-f1a8248aeda1",
        "colab": {
          "base_uri": "https://localhost:8080/",
          "height": 87
        }
      },
      "source": [
        "df.apply(lambda x: x['a'] * x['b'], axis=1)"
      ],
      "execution_count": 21,
      "outputs": [
        {
          "output_type": "execute_result",
          "data": {
            "text/plain": [
              "r1     50\n",
              "r2    200\n",
              "r3    450\n",
              "dtype: int64"
            ]
          },
          "metadata": {
            "tags": []
          },
          "execution_count": 21
        }
      ]
    }
  ]
}