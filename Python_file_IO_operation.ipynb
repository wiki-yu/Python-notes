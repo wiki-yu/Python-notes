{
  "nbformat": 4,
  "nbformat_minor": 0,
  "metadata": {
    "colab": {
      "name": "Python-file-IO-operation.ipynb",
      "provenance": []
    },
    "kernelspec": {
      "name": "python3",
      "display_name": "Python 3"
    },
    "language_info": {
      "name": "python"
    }
  },
  "cells": [
    {
      "cell_type": "markdown",
      "metadata": {
        "id": "DJPXclJOWHxQ"
      },
      "source": [
        "I/O Operation: the function of reading or writting to disk drive is controlled by OS, so it needs to go through the interface provided by OS\n",
        "\n",
        "\n",
        "\n",
        "*   r:\tonly read (default)\n",
        "*   r+:  read and write, cannot create file\n",
        "*   w:\tonly write, overwrite if exists, otherwise create the file and write\n",
        "*   w+:  read and write, can create file\n",
        "*   a:\tappending content, read requires file existed\n",
        "*   a+:  appending content, read does not require file existed\n",
        "*   rb:\tonly read with the binary format\n",
        "*   wb:\tonly write with the binary format\n",
        "*   ab:\tappending with the binary format \n",
        "*   (rb+ wb+ ab+ the same) \n",
        "\n",
        "\n",
        "\n",
        "\n",
        "\n",
        "\n",
        "\n",
        " \n",
        "\n",
        "\n",
        "\n",
        "\t\n",
        "\n",
        "\n",
        "\n"
      ]
    },
    {
      "cell_type": "markdown",
      "metadata": {
        "id": "hFB9RMRgYHX3"
      },
      "source": [
        "## 1. Common way: open()"
      ]
    },
    {
      "cell_type": "code",
      "metadata": {
        "id": "eTGuUz9wsi6H"
      },
      "source": [
        "# Write a text file\n",
        "f = open('./test.txt', 'w')\n",
        "f.write('Hello, world!')\n",
        "f.close()"
      ],
      "execution_count": 34,
      "outputs": []
    },
    {
      "cell_type": "code",
      "metadata": {
        "colab": {
          "base_uri": "https://localhost:8080/"
        },
        "id": "u8ELdgQhWx4v",
        "outputId": "a0e93922-0a7b-41ec-c43f-14ee9f26e0a6"
      },
      "source": [
        "# Read\n",
        "f = open( './test.txt', 'r' )\n",
        "# Read the file content\n",
        "print(f.read())\n",
        "# Close the file to realse the resources\n",
        "f.close()"
      ],
      "execution_count": 35,
      "outputs": [
        {
          "output_type": "stream",
          "name": "stdout",
          "text": [
            "Hello, world!\n"
          ]
        }
      ]
    },
    {
      "cell_type": "code",
      "metadata": {
        "colab": {
          "base_uri": "https://localhost:8080/"
        },
        "id": "vY8GJ-uIXY_P",
        "outputId": "12ebb52f-eb1e-4867-d900-afbe7f62ab3a"
      },
      "source": [
        "# A better way to guarantee the resources will be eventually released\n",
        "try:\n",
        "\tf = open('./test.txt', 'r')\n",
        "\tprint(f.read())\n",
        "finally:\n",
        "\tif f:\n",
        "\t\tf.close()"
      ],
      "execution_count": 36,
      "outputs": [
        {
          "output_type": "stream",
          "name": "stdout",
          "text": [
            "Hello, world!\n"
          ]
        }
      ]
    },
    {
      "cell_type": "markdown",
      "metadata": {
        "id": "Qja0cn3tY5-G"
      },
      "source": [
        "## 2. recommended way: with open()\n",
        "with can apply close method automatically so it is simpler"
      ]
    },
    {
      "cell_type": "code",
      "metadata": {
        "id": "P1oUw9Mts6fW"
      },
      "source": [
        "# Write a text file\n",
        "with open('./test.txt', 'a') as f:\n",
        "\tf.write('Hello world again3!')"
      ],
      "execution_count": 16,
      "outputs": []
    },
    {
      "cell_type": "code",
      "metadata": {
        "colab": {
          "base_uri": "https://localhost:8080/"
        },
        "id": "qirr7_mKXnZf",
        "outputId": "17efd9eb-59b8-463c-e00e-b3850f9a61ca"
      },
      "source": [
        "# Read a text file\n",
        "with open( './test.txt', 'r' ) as f:\n",
        "\tprint( f.read() ) "
      ],
      "execution_count": 37,
      "outputs": [
        {
          "output_type": "stream",
          "name": "stdout",
          "text": [
            "Hello, world!\n"
          ]
        }
      ]
    },
    {
      "cell_type": "markdown",
      "metadata": {
        "id": "uo7P-VsczaS6"
      },
      "source": [
        "## 3. Notes"
      ]
    },
    {
      "cell_type": "code",
      "metadata": {
        "id": "_X-DIuBguIcm"
      },
      "source": [
        "# Need to pass encoding param if text file is not encoded with UTF-8\n",
        "with open('./gbk.txt', 'r', encoding='gbk') as f:\n",
        "    f.read()\n",
        "\n",
        "# Open binary file like image (using rb)\n",
        "with open('./test.jpg', 'rb') as f:\n",
        "    f.read()"
      ],
      "execution_count": null,
      "outputs": []
    },
    {
      "cell_type": "code",
      "metadata": {
        "id": "FE87VK_cuwO1"
      },
      "source": [
        "# Others\n",
        "\n",
        "# Better not use relative path, just in case the module is called by other functions. \n",
        "# f.read()： read all the content (suppose 10GB, then it may crush)\n",
        "# f.read(size): read a specific size (Bytes) everytime\n",
        "# f.readline(): read a line everytime\n",
        "# f.readlines(): read all the lines, the result is a list\n",
        "\n",
        "# Ref: https://blog.csdn.net/chenmozhe22/article/details/81434549\n"
      ],
      "execution_count": null,
      "outputs": []
    }
  ]
}