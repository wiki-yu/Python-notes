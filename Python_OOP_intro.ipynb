{
  "nbformat": 4,
  "nbformat_minor": 0,
  "metadata": {
    "colab": {
      "name": "Python-OOP-intro.ipynb",
      "provenance": [],
      "collapsed_sections": []
    },
    "kernelspec": {
      "name": "python3",
      "display_name": "Python 3"
    },
    "language_info": {
      "name": "python"
    }
  },
  "cells": [
    {
      "cell_type": "markdown",
      "metadata": {
        "id": "ieBlPcOWL6wj"
      },
      "source": [
        "## About class in Python\n",
        "* Classes provide a means of bundling data and functionality together.\n",
        "* the class inheritance mechanism allows multiple base classes, a derived class can override any methods of its base class or classes, and a method can call the method of a base class with the same name. "
      ]
    },
    {
      "cell_type": "markdown",
      "metadata": {
        "id": "J1UMNSQ2p60O"
      },
      "source": [
        "## **1. Define a class**\n",
        "\n",
        "*  The class is defined with the key word \"class\"\n",
        "*  Class name normally starts with a capitalized letter\n",
        "\n",
        "\n",
        "\n"
      ]
    },
    {
      "cell_type": "code",
      "metadata": {
        "id": "sA_hhwLCp9Od"
      },
      "source": [
        "# Notes: The 1st and 2nd expressions are the simplified version of the 3rd \n",
        "# if the class is not inherited from a self-defined class\n",
        "\n",
        "# 1st expression\n",
        "class ClassName:\n",
        "    pass\n",
        "\n",
        "# 2nd expression\n",
        "class ClassName():\n",
        "    pass\n",
        "    \n",
        "# 3rd expression\n",
        "class ClassName(object):\n",
        "    pass"
      ],
      "execution_count": 19,
      "outputs": []
    },
    {
      "cell_type": "markdown",
      "metadata": {
        "id": "F0v2-P7zrDxe"
      },
      "source": [
        "## **2. Class composition**\n",
        "* Method: actually a function, which is called a method only when it is defined in the class.\n",
        "\n",
        "* Attribute: It is actually a variable, but it is a bit different when defined in a class."
      ]
    },
    {
      "cell_type": "code",
      "metadata": {
        "id": "hDAlnedmMJN8",
        "colab": {
          "base_uri": "https://localhost:8080/"
        },
        "outputId": "a1fea407-e2f5-4ed4-d496-37432c89a555"
      },
      "source": [
        "class Student(object):\n",
        "    def __init__(self, name, age): # the \n",
        "        self.name = name\n",
        "        self.age = age\n",
        "\n",
        "    def output(self):\n",
        "        print('Student info. Name: {}, Age: {}'.format(self.name, self.age))\n",
        "\n",
        "student = Student('John', 20)\n",
        "student.output()\n",
        "\n",
        "# Notes: unlike normal function, class methods has to include parameter self, \n",
        "# and should be the first parameter, self represents the instance of the class"
      ],
      "execution_count": 20,
      "outputs": [
        {
          "output_type": "stream",
          "name": "stdout",
          "text": [
            "Student info. Name: John, Age: 20\n"
          ]
        }
      ]
    },
    {
      "cell_type": "markdown",
      "metadata": {
        "id": "J9EBgbXBwMTJ"
      },
      "source": [
        "* Constructor: \\__init__() This method is automatically called when the class is instantiated, also known as the initialization method.\n",
        "\n",
        "* Private properties of the class\n",
        "\n",
        "\\__private_attrs: Start with two underscores, which declare that the attribute is private and cannot be used or directly accessed outside the class. \n",
        "\n",
        "* Private methods of the class\n",
        "\n",
        "*\\__private_method: starting with two underscores, declares that the method is a private method and can only be called inside the class.*"
      ]
    },
    {
      "cell_type": "code",
      "metadata": {
        "colab": {
          "base_uri": "https://localhost:8080/"
        },
        "id": "Ck_0igtixi5J",
        "outputId": "7fd90877-012a-44e5-c4b1-de496ebbef24"
      },
      "source": [
        "class Private:\n",
        "    __variables = 0\n",
        "    public = 0\n",
        "\n",
        "    def count(self):\n",
        "        self.__variables += 1\n",
        "        self.public += 1\n",
        "        print(self.__variables)\n",
        "\n",
        "counter = Private()\n",
        "counter.count()\n",
        "counter.count()\n",
        "print(counter.public)\n",
        "# print(counter.__variables) # error, instance cannot visit private variable\n",
        "\n",
        "# Notes: Role of Underscore(_) in Python: https://www.datacamp.com/community/tutorials/role-underscore-python"
      ],
      "execution_count": 22,
      "outputs": [
        {
          "output_type": "stream",
          "name": "stdout",
          "text": [
            "1\n",
            "2\n",
            "2\n"
          ]
        }
      ]
    },
    {
      "cell_type": "code",
      "metadata": {
        "colab": {
          "base_uri": "https://localhost:8080/"
        },
        "id": "GZe4kZUTywpf",
        "outputId": "3a8043f4-5531-4926-d5cb-752735f0bb8c"
      },
      "source": [
        "# Concepts: Sub class, Base class or Super class\n",
        "# If the methods in super class do not satisfy the requirements, you can rewrite the method in \n",
        "# the sub class (with the same name)\n",
        "\n",
        "# Declare a class named People, use class Student to inherit class People\n",
        "\n",
        "class People(object):\n",
        "    def __init__(self, name, age):\n",
        "        self.name = name\n",
        "        self.age = age\n",
        "\n",
        "    def speak():\n",
        "        print('{} say: I am {} years old'.format(self.name, self.age))\n",
        "\n",
        "class Student(People):\n",
        "    def __init__(self, name, age, grade):\n",
        "        People.__init__(self, name, age)\n",
        "        self.grade = grade\n",
        "\n",
        "    def speak(self):\n",
        "        print('{} say: I am {} years old, I am grade {}'.format(self.name, self.age, self.grade))\n",
        "\n",
        "sam = Student('Sam', 10, 3)\n",
        "sam.speak()"
      ],
      "execution_count": 23,
      "outputs": [
        {
          "output_type": "stream",
          "name": "stdout",
          "text": [
            "Sam say: I am 10 years old, I am grade 3\n"
          ]
        }
      ]
    },
    {
      "cell_type": "markdown",
      "metadata": {
        "id": "WIVPBfeNMG1c"
      },
      "source": [
        "## 3.1 **Python super()**\n",
        "\n",
        "*   When a class inherits some or all of the behaviors from another class is known as Inheritance.\n",
        "*   In an inherited subclass, a parent class can be referred to with the use of the super() function. \n",
        "*   The super function returns a temporary object of the superclass that allows access to all of its methods to its child class.\n",
        "\n"
      ]
    },
    {
      "cell_type": "code",
      "metadata": {
        "id": "gq2mVsfCMKJc",
        "colab": {
          "base_uri": "https://localhost:8080/"
        },
        "outputId": "7797c660-e1ec-4d49-8993-cd710eb66de0"
      },
      "source": [
        "# Example1: the usage of super() \n",
        "class Animal(object):\n",
        "    def __init__(self, animal_type):\n",
        "        print('Animal type: ', animal_type)\n",
        "    \n",
        "class Mammal(Animal):\n",
        "    def __init__(self):\n",
        "        super().__init__('Mammal')\n",
        "        print('Mammals give birth directly')\n",
        "\n",
        "dog = Mammal()"
      ],
      "execution_count": 24,
      "outputs": [
        {
          "output_type": "stream",
          "name": "stdout",
          "text": [
            "Animal type:  Mammal\n",
            "Mammals give birth directly\n"
          ]
        }
      ]
    },
    {
      "cell_type": "code",
      "metadata": {
        "colab": {
          "base_uri": "https://localhost:8080/"
        },
        "id": "blj5aErx46g7",
        "outputId": "fb8aa894-de81-401b-c097-83980d8acdd5"
      },
      "source": [
        "# Example2: super() with single inheritance\n",
        "\n",
        "class Mammal(object):\n",
        "    def __init__(self, mammalName):\n",
        "        print(mammalName, 'is a warm_blooded animal')\n",
        "\n",
        "class Dog(Mammal):\n",
        "    def __init__(self):\n",
        "        print('Dog has four legs')\n",
        "        super().__init__('Dog')\n",
        "dog = Dog()\n",
        "\n",
        "# Notes:\n",
        "# using super().__init__('Dog') instead of Mammal.__init__(self, 'Dog')\n",
        "# Since we do not need to specify the name of the base class when we call its members, \n",
        "# we can easily change the base class name (if we need to).\n"
      ],
      "execution_count": 25,
      "outputs": [
        {
          "output_type": "stream",
          "name": "stdout",
          "text": [
            "Dog has four legs\n",
            "Dog is a warm_blooded animal\n"
          ]
        }
      ]
    },
    {
      "cell_type": "code",
      "metadata": {
        "colab": {
          "base_uri": "https://localhost:8080/"
        },
        "id": "6tkN8yBX9KXQ",
        "outputId": "3133ee03-c0a7-41f6-ccf8-0b1be3261020"
      },
      "source": [
        "# Example3: super() with single inheritance\n",
        "\n",
        "class Animals:\n",
        "\t# Initializing constructor\n",
        "\tdef __init__(self):\n",
        "\t\tself.legs = 4\n",
        "\t\tself.domestic = True\n",
        "\t\tself.tail = True\n",
        "\t\tself.mammals = True\n",
        "\t\n",
        "\tdef isMammal(self):\n",
        "\t\tif self.mammals:\n",
        "\t\t\tprint(\"It is a mammal.\")\n",
        "\t\n",
        "\tdef isDomestic(self):\n",
        "\t\tif self.domestic:\n",
        "\t\t\tprint(\"It is a domestic animal.\")\n",
        "\t\n",
        "class Dogs(Animals):\n",
        "\tdef __init__(self):\n",
        "\t\tsuper().__init__()\n",
        "\n",
        "\tdef isMammal(self):\n",
        "\t\tsuper().isMammal()\n",
        "\n",
        "class Horses(Animals):\n",
        "\tdef __init__(self):\n",
        "\t\tsuper().__init__()\n",
        "\n",
        "\tdef hasTailandLegs(self):\n",
        "\t\tif self.tail and self.legs == 4:\n",
        "\t\t\tprint(\"Has legs and tail\")\n",
        "\n",
        "Tom = Dogs()\n",
        "Tom.isMammal()\n",
        "Bruno = Horses()\n",
        "Bruno.hasTailandLegs()\n",
        "\n",
        "# Notes: Animals liks dogs, cats and cows share common characteristics like: \n",
        "# They are mammals.\n",
        "# They have a tail and four legs.\n",
        "# They are domestic animals.\n",
        "# So, the classes dogs, cats and horses are subclass of animal class. \n",
        "# This is an example of single inheritance because many subclass are inherited from a single parent class."
      ],
      "execution_count": 26,
      "outputs": [
        {
          "output_type": "stream",
          "name": "stdout",
          "text": [
            "It is a mammal.\n",
            "Has legs and tail\n"
          ]
        }
      ]
    },
    {
      "cell_type": "code",
      "metadata": {
        "colab": {
          "base_uri": "https://localhost:8080/"
        },
        "id": "BIYFubhq-O-X",
        "outputId": "a8cf18ad-9309-4d9f-fce8-34fe9c00d34e"
      },
      "source": [
        "# Example4: super() with multiple inheritance\n",
        "\n",
        "class Mammal():\n",
        "\tdef __init__(self, name):\n",
        "\t\tprint(name, \"is a mammal\")\n",
        "\t\t\n",
        "class canFly(Mammal):\n",
        "\tdef __init__(self, canFly_name):\n",
        "\t\tprint(canFly_name, \"cannot fly\")\n",
        "\t\tsuper().__init__(canFly_name)\n",
        "\t\t\t\n",
        "class canSwim(Mammal):\n",
        "\tdef __init__(self, canSwim_name):\n",
        "\t\tprint(canSwim_name, \"cannot swim\")\n",
        "\t\tsuper().__init__(canSwim_name)\n",
        "\t\t\n",
        "class Animal(canFly, canSwim):\n",
        "\tdef __init__(self, name):\n",
        "\t\t# Calling the constructor\n",
        "\t\t# of both thr parent\n",
        "\t\t# class in the order of\n",
        "\t\t# their inheritance\n",
        "\t\tsuper().__init__(name)\n",
        "\n",
        "Carol = Animal(\"Dog\")"
      ],
      "execution_count": 27,
      "outputs": [
        {
          "output_type": "stream",
          "name": "stdout",
          "text": [
            "Dog cannot fly\n",
            "Dog cannot swim\n",
            "Dog is a mammal\n"
          ]
        }
      ]
    },
    {
      "cell_type": "markdown",
      "metadata": {
        "id": "6TT1HjqJK3_d"
      },
      "source": [
        "## **3.2 \\__getitem__() method**\n",
        "\\__getitem__() is a magic method in Python, which when used in a class, allows its instances to use the [] (indexer) operators. Say x is an instance of this class, then x[i] is roughly equivalent to type(x).\\__getitem__(x, i)."
      ]
    },
    {
      "cell_type": "code",
      "metadata": {
        "colab": {
          "base_uri": "https://localhost:8080/"
        },
        "id": "nXtTkYJcCUlb",
        "outputId": "2bce218a-c893-41a7-e205-80ccee2afd71"
      },
      "source": [
        "class Building(object):\n",
        "    def __init__(self, floors):\n",
        "        self._floors = [None] * floors\n",
        "    def occupy(self, floor_number, data):\n",
        "        self._floors[floor_number] = data\n",
        "    def get_floor_data(self, floor_number):\n",
        "        return self._floors[floor_number]\n",
        "\n",
        "building1 = Building(4)  # construct a building with 4 floors\n",
        "building1.occupy(0, 'Reception')\n",
        "building1.occupy(1, 'ABC Corp')\n",
        "building1.occupy(2, 'DEF Inc')\n",
        "print(building1.get_floor_data(2))"
      ],
      "execution_count": 34,
      "outputs": [
        {
          "output_type": "stream",
          "name": "stdout",
          "text": [
            "DEF Inc\n"
          ]
        }
      ]
    },
    {
      "cell_type": "code",
      "metadata": {
        "colab": {
          "base_uri": "https://localhost:8080/"
        },
        "id": "csdbWaOXG8zY",
        "outputId": "30888a4c-b994-4b36-d13b-09084085967f"
      },
      "source": [
        "class Building(object):\n",
        "    def __init__(self, floors):\n",
        "        self._floors = [None] * floors\n",
        "    def __setitem__(self, floor_number, data):\n",
        "            self._floors[floor_number] = data\n",
        "    def __getitem__(self, floor_number):\n",
        "            return self._floors[floor_number]\n",
        "            \n",
        "building1 = Building(4) # Construct a building with 4 floors\n",
        "building1[0] = 'Reception'\n",
        "building1[1] = 'ABC Corp'\n",
        "building1[2] = 'DEF Inc'\n",
        "print( building1[2])"
      ],
      "execution_count": 41,
      "outputs": [
        {
          "output_type": "stream",
          "name": "stdout",
          "text": [
            "DEF Inc\n"
          ]
        }
      ]
    },
    {
      "cell_type": "markdown",
      "metadata": {
        "id": "gj8xwRIZDMji"
      },
      "source": [
        "## **3.3 Iterator**\n",
        "* Most container objects can be looped over using a for statement\n",
        "* Behind the scenes, the for statement calls iter() on the container object.\n",
        "* The function returns an iterator object that defines the method \\__next__() which accesses elements in the container one at a time.\n",
        "* When there are no more elements, \\__next__() raises a StopIteration exception which tells the for loop to terminate. \n",
        "* You can call the \\__next__() method using the next() built-in function;"
      ]
    },
    {
      "cell_type": "code",
      "metadata": {
        "colab": {
          "base_uri": "https://localhost:8080/"
        },
        "id": "hwW4WPGjR-Bv",
        "outputId": "6c71431b-8784-4661-f494-f52d386a7b26"
      },
      "source": [
        "# Most container objects can be looped\n",
        "\n",
        "for element in [1, 2, 3]:\n",
        "    print(element)\n",
        "for element in (1, 2, 3):\n",
        "    print(element)\n",
        "for key in {'one':1, 'two':2}:\n",
        "    print(key)\n",
        "for char in \"123\":\n",
        "    print(char)"
      ],
      "execution_count": 65,
      "outputs": [
        {
          "output_type": "stream",
          "name": "stdout",
          "text": [
            "1\n",
            "2\n",
            "3\n",
            "1\n",
            "2\n",
            "3\n",
            "one\n",
            "two\n",
            "1\n",
            "2\n",
            "3\n"
          ]
        }
      ]
    },
    {
      "cell_type": "code",
      "metadata": {
        "colab": {
          "base_uri": "https://localhost:8080/"
        },
        "id": "EBlSz-3pSGIw",
        "outputId": "c3552aa1-3d0c-4aaa-80a9-9c042a0a7b2d"
      },
      "source": [
        "s = 'abc'\n",
        "# Get an interator object\n",
        "it = iter(s)\n",
        "print(it)\n",
        "\n",
        "# call the __next__() method using the next() built-in function\n",
        "print(next(it))\n",
        "print(next(it))\n",
        "print(next(it))\n",
        "# print(next(it)) # there will be StopIteration error if uncommented"
      ],
      "execution_count": 67,
      "outputs": [
        {
          "output_type": "stream",
          "name": "stdout",
          "text": [
            "<str_iterator object at 0x7fe047464bd0>\n",
            "a\n",
            "b\n",
            "c\n"
          ]
        }
      ]
    },
    {
      "cell_type": "code",
      "metadata": {
        "colab": {
          "base_uri": "https://localhost:8080/"
        },
        "id": "7z-y9Q3zUhTX",
        "outputId": "424f5b84-44cc-4d9a-e6ca-2627fc5a3dea"
      },
      "source": [
        "class Reverse:\n",
        "    def __init__(self, data):\n",
        "        self.data = data\n",
        "        self.index =  len(data)\n",
        "    \n",
        "    def __iter__(self):\n",
        "        return self\n",
        "    \n",
        "    def __next__(self):\n",
        "        if self.index == 0:\n",
        "            raise StopIteration\n",
        "        self.index = self.index - 1\n",
        "        return self.data[self.index]\n",
        "\n",
        "rev = Reverse('spam')\n",
        "print(iter(rev))\n",
        "\n",
        "for char in rev:\n",
        "    print(char)"
      ],
      "execution_count": 68,
      "outputs": [
        {
          "output_type": "stream",
          "name": "stdout",
          "text": [
            "<__main__.Reverse object at 0x7fe0474c7310>\n",
            "m\n",
            "a\n",
            "p\n",
            "s\n"
          ]
        }
      ]
    }
  ]
}