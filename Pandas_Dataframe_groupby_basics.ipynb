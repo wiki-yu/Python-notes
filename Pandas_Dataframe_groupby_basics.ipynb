{
  "nbformat": 4,
  "nbformat_minor": 0,
  "metadata": {
    "colab": {
      "name": "pandas_dataframe_groupby_basics.ipynb",
      "provenance": []
    },
    "kernelspec": {
      "name": "python3",
      "display_name": "Python 3"
    }
  },
  "cells": [
    {
      "cell_type": "code",
      "metadata": {
        "id": "arBfqG4g7VQO",
        "colab_type": "code",
        "colab": {}
      },
      "source": [
        "import numpy as np\n",
        "import pandas as pd"
      ],
      "execution_count": 0,
      "outputs": []
    },
    {
      "cell_type": "code",
      "metadata": {
        "id": "nE9iIaBB78au",
        "colab_type": "code",
        "colab": {
          "base_uri": "https://localhost:8080/",
          "height": 290
        },
        "outputId": "56cd3b10-4ada-47e0-9ee5-08f9e6fb8a4e"
      },
      "source": [
        "# example dataset\n",
        "data = {'Company':['Microsoft', 'Alibaba', 'Microsoft', 'Google',  \n",
        "                 'Netflix', 'Alibaba', 'Google', 'Tecent'],  \n",
        "        'Name':['Jason', 'Wiki', 'Sara', 'Lucy', \n",
        "                   'Tom', 'Zach', 'Ted', 'Nancy'],  \n",
        "        'Age':[27, 24, 22, 32, 33, 36, 27, 32],  \n",
        "        'Degree':['BA', 'MA', 'MA', 'Phd', \n",
        "                         'BA', 'BA', 'Phd', 'MA']}  \n",
        "\n",
        "df = pd.DataFrame(data) \n",
        "df"
      ],
      "execution_count": 42,
      "outputs": [
        {
          "output_type": "execute_result",
          "data": {
            "text/html": [
              "<div>\n",
              "<style scoped>\n",
              "    .dataframe tbody tr th:only-of-type {\n",
              "        vertical-align: middle;\n",
              "    }\n",
              "\n",
              "    .dataframe tbody tr th {\n",
              "        vertical-align: top;\n",
              "    }\n",
              "\n",
              "    .dataframe thead th {\n",
              "        text-align: right;\n",
              "    }\n",
              "</style>\n",
              "<table border=\"1\" class=\"dataframe\">\n",
              "  <thead>\n",
              "    <tr style=\"text-align: right;\">\n",
              "      <th></th>\n",
              "      <th>Company</th>\n",
              "      <th>Name</th>\n",
              "      <th>Age</th>\n",
              "      <th>Degree</th>\n",
              "    </tr>\n",
              "  </thead>\n",
              "  <tbody>\n",
              "    <tr>\n",
              "      <th>0</th>\n",
              "      <td>Microsoft</td>\n",
              "      <td>Jason</td>\n",
              "      <td>27</td>\n",
              "      <td>BA</td>\n",
              "    </tr>\n",
              "    <tr>\n",
              "      <th>1</th>\n",
              "      <td>Alibaba</td>\n",
              "      <td>Wiki</td>\n",
              "      <td>24</td>\n",
              "      <td>MA</td>\n",
              "    </tr>\n",
              "    <tr>\n",
              "      <th>2</th>\n",
              "      <td>Microsoft</td>\n",
              "      <td>Sara</td>\n",
              "      <td>22</td>\n",
              "      <td>MA</td>\n",
              "    </tr>\n",
              "    <tr>\n",
              "      <th>3</th>\n",
              "      <td>Google</td>\n",
              "      <td>Lucy</td>\n",
              "      <td>32</td>\n",
              "      <td>Phd</td>\n",
              "    </tr>\n",
              "    <tr>\n",
              "      <th>4</th>\n",
              "      <td>Netflix</td>\n",
              "      <td>Tom</td>\n",
              "      <td>33</td>\n",
              "      <td>BA</td>\n",
              "    </tr>\n",
              "    <tr>\n",
              "      <th>5</th>\n",
              "      <td>Alibaba</td>\n",
              "      <td>Zach</td>\n",
              "      <td>36</td>\n",
              "      <td>BA</td>\n",
              "    </tr>\n",
              "    <tr>\n",
              "      <th>6</th>\n",
              "      <td>Google</td>\n",
              "      <td>Ted</td>\n",
              "      <td>27</td>\n",
              "      <td>Phd</td>\n",
              "    </tr>\n",
              "    <tr>\n",
              "      <th>7</th>\n",
              "      <td>Tecent</td>\n",
              "      <td>Nancy</td>\n",
              "      <td>32</td>\n",
              "      <td>MA</td>\n",
              "    </tr>\n",
              "  </tbody>\n",
              "</table>\n",
              "</div>"
            ],
            "text/plain": [
              "     Company   Name  Age Degree\n",
              "0  Microsoft  Jason   27     BA\n",
              "1    Alibaba   Wiki   24     MA\n",
              "2  Microsoft   Sara   22     MA\n",
              "3     Google   Lucy   32    Phd\n",
              "4    Netflix    Tom   33     BA\n",
              "5    Alibaba   Zach   36     BA\n",
              "6     Google    Ted   27    Phd\n",
              "7     Tecent  Nancy   32     MA"
            ]
          },
          "metadata": {
            "tags": []
          },
          "execution_count": 42
        }
      ]
    },
    {
      "cell_type": "markdown",
      "metadata": {
        "id": "_myLIdqk-ET3",
        "colab_type": "text"
      },
      "source": [
        "### 1. Grouping data with one key:"
      ]
    },
    {
      "cell_type": "code",
      "metadata": {
        "id": "g6UF-jNS81Vd",
        "colab_type": "code",
        "colab": {
          "base_uri": "https://localhost:8080/",
          "height": 105
        },
        "outputId": "015a6b5c-8488-4b3f-bdf2-5a10b3c55d88"
      },
      "source": [
        "df.groupby('Company') \n",
        "df.groupby('Company').groups"
      ],
      "execution_count": 43,
      "outputs": [
        {
          "output_type": "execute_result",
          "data": {
            "text/plain": [
              "{'Alibaba': Int64Index([1, 5], dtype='int64'),\n",
              " 'Google': Int64Index([3, 6], dtype='int64'),\n",
              " 'Microsoft': Int64Index([0, 2], dtype='int64'),\n",
              " 'Netflix': Int64Index([4], dtype='int64'),\n",
              " 'Tecent': Int64Index([7], dtype='int64')}"
            ]
          },
          "metadata": {
            "tags": []
          },
          "execution_count": 43
        }
      ]
    },
    {
      "cell_type": "code",
      "metadata": {
        "id": "--EzMJMv9ATW",
        "colab_type": "code",
        "colab": {
          "base_uri": "https://localhost:8080/",
          "height": 230
        },
        "outputId": "25f43447-4eae-4ac3-f065-2a1c3552ed95"
      },
      "source": [
        "# print the first entries in all the groups formed.  \n",
        "gf = df.groupby('Company')  \n",
        "gf.first()"
      ],
      "execution_count": 44,
      "outputs": [
        {
          "output_type": "execute_result",
          "data": {
            "text/html": [
              "<div>\n",
              "<style scoped>\n",
              "    .dataframe tbody tr th:only-of-type {\n",
              "        vertical-align: middle;\n",
              "    }\n",
              "\n",
              "    .dataframe tbody tr th {\n",
              "        vertical-align: top;\n",
              "    }\n",
              "\n",
              "    .dataframe thead th {\n",
              "        text-align: right;\n",
              "    }\n",
              "</style>\n",
              "<table border=\"1\" class=\"dataframe\">\n",
              "  <thead>\n",
              "    <tr style=\"text-align: right;\">\n",
              "      <th></th>\n",
              "      <th>Name</th>\n",
              "      <th>Age</th>\n",
              "      <th>Degree</th>\n",
              "    </tr>\n",
              "    <tr>\n",
              "      <th>Company</th>\n",
              "      <th></th>\n",
              "      <th></th>\n",
              "      <th></th>\n",
              "    </tr>\n",
              "  </thead>\n",
              "  <tbody>\n",
              "    <tr>\n",
              "      <th>Alibaba</th>\n",
              "      <td>Wiki</td>\n",
              "      <td>24</td>\n",
              "      <td>MA</td>\n",
              "    </tr>\n",
              "    <tr>\n",
              "      <th>Google</th>\n",
              "      <td>Lucy</td>\n",
              "      <td>32</td>\n",
              "      <td>Phd</td>\n",
              "    </tr>\n",
              "    <tr>\n",
              "      <th>Microsoft</th>\n",
              "      <td>Jason</td>\n",
              "      <td>27</td>\n",
              "      <td>BA</td>\n",
              "    </tr>\n",
              "    <tr>\n",
              "      <th>Netflix</th>\n",
              "      <td>Tom</td>\n",
              "      <td>33</td>\n",
              "      <td>BA</td>\n",
              "    </tr>\n",
              "    <tr>\n",
              "      <th>Tecent</th>\n",
              "      <td>Nancy</td>\n",
              "      <td>32</td>\n",
              "      <td>MA</td>\n",
              "    </tr>\n",
              "  </tbody>\n",
              "</table>\n",
              "</div>"
            ],
            "text/plain": [
              "            Name  Age Degree\n",
              "Company                     \n",
              "Alibaba     Wiki   24     MA\n",
              "Google      Lucy   32    Phd\n",
              "Microsoft  Jason   27     BA\n",
              "Netflix      Tom   33     BA\n",
              "Tecent     Nancy   32     MA"
            ]
          },
          "metadata": {
            "tags": []
          },
          "execution_count": 44
        }
      ]
    },
    {
      "cell_type": "code",
      "metadata": {
        "id": "eBV8hEN7By-D",
        "colab_type": "code",
        "colab": {
          "base_uri": "https://localhost:8080/",
          "height": 421
        },
        "outputId": "bf2f5dce-6b4f-4d84-d42d-96046a0c7337"
      },
      "source": [
        "grp = df.groupby('Company') \n",
        "for company, group in grp: \n",
        "    print(company) \n",
        "    print(group) \n",
        "    print()"
      ],
      "execution_count": 45,
      "outputs": [
        {
          "output_type": "stream",
          "text": [
            "Alibaba\n",
            "   Company  Name  Age Degree\n",
            "1  Alibaba  Wiki   24     MA\n",
            "5  Alibaba  Zach   36     BA\n",
            "\n",
            "Google\n",
            "  Company  Name  Age Degree\n",
            "3  Google  Lucy   32    Phd\n",
            "6  Google   Ted   27    Phd\n",
            "\n",
            "Microsoft\n",
            "     Company   Name  Age Degree\n",
            "0  Microsoft  Jason   27     BA\n",
            "2  Microsoft   Sara   22     MA\n",
            "\n",
            "Netflix\n",
            "   Company Name  Age Degree\n",
            "4  Netflix  Tom   33     BA\n",
            "\n",
            "Tecent\n",
            "  Company   Name  Age Degree\n",
            "7  Tecent  Nancy   32     MA\n",
            "\n"
          ],
          "name": "stdout"
        }
      ]
    },
    {
      "cell_type": "code",
      "metadata": {
        "id": "9O7A28IJCKpL",
        "colab_type": "code",
        "colab": {
          "base_uri": "https://localhost:8080/",
          "height": 108
        },
        "outputId": "da140e66-190d-4154-84e9-f57e8b108a34"
      },
      "source": [
        "grp = df.groupby('Company') \n",
        "grp.get_group('Google') "
      ],
      "execution_count": 46,
      "outputs": [
        {
          "output_type": "execute_result",
          "data": {
            "text/html": [
              "<div>\n",
              "<style scoped>\n",
              "    .dataframe tbody tr th:only-of-type {\n",
              "        vertical-align: middle;\n",
              "    }\n",
              "\n",
              "    .dataframe tbody tr th {\n",
              "        vertical-align: top;\n",
              "    }\n",
              "\n",
              "    .dataframe thead th {\n",
              "        text-align: right;\n",
              "    }\n",
              "</style>\n",
              "<table border=\"1\" class=\"dataframe\">\n",
              "  <thead>\n",
              "    <tr style=\"text-align: right;\">\n",
              "      <th></th>\n",
              "      <th>Company</th>\n",
              "      <th>Name</th>\n",
              "      <th>Age</th>\n",
              "      <th>Degree</th>\n",
              "    </tr>\n",
              "  </thead>\n",
              "  <tbody>\n",
              "    <tr>\n",
              "      <th>3</th>\n",
              "      <td>Google</td>\n",
              "      <td>Lucy</td>\n",
              "      <td>32</td>\n",
              "      <td>Phd</td>\n",
              "    </tr>\n",
              "    <tr>\n",
              "      <th>6</th>\n",
              "      <td>Google</td>\n",
              "      <td>Ted</td>\n",
              "      <td>27</td>\n",
              "      <td>Phd</td>\n",
              "    </tr>\n",
              "  </tbody>\n",
              "</table>\n",
              "</div>"
            ],
            "text/plain": [
              "  Company  Name  Age Degree\n",
              "3  Google  Lucy   32    Phd\n",
              "6  Google   Ted   27    Phd"
            ]
          },
          "metadata": {
            "tags": []
          },
          "execution_count": 46
        }
      ]
    },
    {
      "cell_type": "markdown",
      "metadata": {
        "id": "2Br2jX4W-O_k",
        "colab_type": "text"
      },
      "source": [
        "### 2. Grouping data with multiple key:"
      ]
    },
    {
      "cell_type": "code",
      "metadata": {
        "id": "_0IQ5byL9QoN",
        "colab_type": "code",
        "colab": {
          "base_uri": "https://localhost:8080/",
          "height": 140
        },
        "outputId": "5299b85b-9f18-47f1-8bf4-29648c2f69c6"
      },
      "source": [
        "# Using multiple keys in groupby() function \n",
        "df.groupby(['Company', 'Degree'])  \n",
        "df.groupby(['Company', 'Degree']).groups"
      ],
      "execution_count": 47,
      "outputs": [
        {
          "output_type": "execute_result",
          "data": {
            "text/plain": [
              "{('Alibaba', 'BA'): Int64Index([5], dtype='int64'),\n",
              " ('Alibaba', 'MA'): Int64Index([1], dtype='int64'),\n",
              " ('Google', 'Phd'): Int64Index([3, 6], dtype='int64'),\n",
              " ('Microsoft', 'BA'): Int64Index([0], dtype='int64'),\n",
              " ('Microsoft', 'MA'): Int64Index([2], dtype='int64'),\n",
              " ('Netflix', 'BA'): Int64Index([4], dtype='int64'),\n",
              " ('Tecent', 'MA'): Int64Index([7], dtype='int64')}"
            ]
          },
          "metadata": {
            "tags": []
          },
          "execution_count": 47
        }
      ]
    },
    {
      "cell_type": "code",
      "metadata": {
        "id": "pKkDSqlIB3zs",
        "colab_type": "code",
        "colab": {
          "base_uri": "https://localhost:8080/",
          "height": 526
        },
        "outputId": "d9d7beb6-7fe4-4574-901c-759c6b56284c"
      },
      "source": [
        "grp = df.groupby(['Company', 'Degree']) \n",
        "for info, group in grp: \n",
        "    print(info) \n",
        "    print(group) \n",
        "    print() "
      ],
      "execution_count": 48,
      "outputs": [
        {
          "output_type": "stream",
          "text": [
            "('Alibaba', 'BA')\n",
            "   Company  Name  Age Degree\n",
            "5  Alibaba  Zach   36     BA\n",
            "\n",
            "('Alibaba', 'MA')\n",
            "   Company  Name  Age Degree\n",
            "1  Alibaba  Wiki   24     MA\n",
            "\n",
            "('Google', 'Phd')\n",
            "  Company  Name  Age Degree\n",
            "3  Google  Lucy   32    Phd\n",
            "6  Google   Ted   27    Phd\n",
            "\n",
            "('Microsoft', 'BA')\n",
            "     Company   Name  Age Degree\n",
            "0  Microsoft  Jason   27     BA\n",
            "\n",
            "('Microsoft', 'MA')\n",
            "     Company  Name  Age Degree\n",
            "2  Microsoft  Sara   22     MA\n",
            "\n",
            "('Netflix', 'BA')\n",
            "   Company Name  Age Degree\n",
            "4  Netflix  Tom   33     BA\n",
            "\n",
            "('Tecent', 'MA')\n",
            "  Company   Name  Age Degree\n",
            "7  Tecent  Nancy   32     MA\n",
            "\n"
          ],
          "name": "stdout"
        }
      ]
    },
    {
      "cell_type": "code",
      "metadata": {
        "id": "rzSfG4kwCObL",
        "colab_type": "code",
        "colab": {
          "base_uri": "https://localhost:8080/",
          "height": 78
        },
        "outputId": "f64862c0-73aa-43e5-c060-4cb0dd64eab7"
      },
      "source": [
        "grp = df.groupby(['Company', 'Degree']) \n",
        "grp.get_group(('Alibaba', 'MA')) "
      ],
      "execution_count": 49,
      "outputs": [
        {
          "output_type": "execute_result",
          "data": {
            "text/html": [
              "<div>\n",
              "<style scoped>\n",
              "    .dataframe tbody tr th:only-of-type {\n",
              "        vertical-align: middle;\n",
              "    }\n",
              "\n",
              "    .dataframe tbody tr th {\n",
              "        vertical-align: top;\n",
              "    }\n",
              "\n",
              "    .dataframe thead th {\n",
              "        text-align: right;\n",
              "    }\n",
              "</style>\n",
              "<table border=\"1\" class=\"dataframe\">\n",
              "  <thead>\n",
              "    <tr style=\"text-align: right;\">\n",
              "      <th></th>\n",
              "      <th>Company</th>\n",
              "      <th>Name</th>\n",
              "      <th>Age</th>\n",
              "      <th>Degree</th>\n",
              "    </tr>\n",
              "  </thead>\n",
              "  <tbody>\n",
              "    <tr>\n",
              "      <th>1</th>\n",
              "      <td>Alibaba</td>\n",
              "      <td>Wiki</td>\n",
              "      <td>24</td>\n",
              "      <td>MA</td>\n",
              "    </tr>\n",
              "  </tbody>\n",
              "</table>\n",
              "</div>"
            ],
            "text/plain": [
              "   Company  Name  Age Degree\n",
              "1  Alibaba  Wiki   24     MA"
            ]
          },
          "metadata": {
            "tags": []
          },
          "execution_count": 49
        }
      ]
    },
    {
      "cell_type": "markdown",
      "metadata": {
        "id": "jSMmQ-rmC0-w",
        "colab_type": "text"
      },
      "source": [
        "### 3. Applying function to group\n",
        "* Aggregation \n",
        "* Transformation\n",
        "* Filtration \n"
      ]
    },
    {
      "cell_type": "code",
      "metadata": {
        "id": "rSXxyYpNC2Z3",
        "colab_type": "code",
        "colab": {
          "base_uri": "https://localhost:8080/",
          "height": 290
        },
        "outputId": "7a672cc9-a43e-4f9d-ceca-c31a31389585"
      },
      "source": [
        "# example dataset\n",
        "data1 = {'Company':['Microsoft', 'Alibaba', 'Microsoft', 'Google',  \n",
        "                 'Netflix', 'Alibaba', 'Google', 'Tecent'],  \n",
        "        'Name':['Jason', 'Wiki', 'Sara', 'Lucy', \n",
        "                   'Tom', 'Zach', 'Ted', 'Nancy'],  \n",
        "        'Age':[27, 24, 22, 32, 33, 36, 27, 32],  \n",
        "        'Salary':[120, 80, 100, 150, 120, 90, 190, 100], \n",
        "        'Degree':['BA', 'MA', 'MA', 'Phd', \n",
        "                         'BA', 'BA', 'Phd', 'MA']}  \n",
        "df = pd.DataFrame(data1) \n",
        "df"
      ],
      "execution_count": 50,
      "outputs": [
        {
          "output_type": "execute_result",
          "data": {
            "text/html": [
              "<div>\n",
              "<style scoped>\n",
              "    .dataframe tbody tr th:only-of-type {\n",
              "        vertical-align: middle;\n",
              "    }\n",
              "\n",
              "    .dataframe tbody tr th {\n",
              "        vertical-align: top;\n",
              "    }\n",
              "\n",
              "    .dataframe thead th {\n",
              "        text-align: right;\n",
              "    }\n",
              "</style>\n",
              "<table border=\"1\" class=\"dataframe\">\n",
              "  <thead>\n",
              "    <tr style=\"text-align: right;\">\n",
              "      <th></th>\n",
              "      <th>Company</th>\n",
              "      <th>Name</th>\n",
              "      <th>Age</th>\n",
              "      <th>Salary</th>\n",
              "      <th>Degree</th>\n",
              "    </tr>\n",
              "  </thead>\n",
              "  <tbody>\n",
              "    <tr>\n",
              "      <th>0</th>\n",
              "      <td>Microsoft</td>\n",
              "      <td>Jason</td>\n",
              "      <td>27</td>\n",
              "      <td>120</td>\n",
              "      <td>BA</td>\n",
              "    </tr>\n",
              "    <tr>\n",
              "      <th>1</th>\n",
              "      <td>Alibaba</td>\n",
              "      <td>Wiki</td>\n",
              "      <td>24</td>\n",
              "      <td>80</td>\n",
              "      <td>MA</td>\n",
              "    </tr>\n",
              "    <tr>\n",
              "      <th>2</th>\n",
              "      <td>Microsoft</td>\n",
              "      <td>Sara</td>\n",
              "      <td>22</td>\n",
              "      <td>100</td>\n",
              "      <td>MA</td>\n",
              "    </tr>\n",
              "    <tr>\n",
              "      <th>3</th>\n",
              "      <td>Google</td>\n",
              "      <td>Lucy</td>\n",
              "      <td>32</td>\n",
              "      <td>150</td>\n",
              "      <td>Phd</td>\n",
              "    </tr>\n",
              "    <tr>\n",
              "      <th>4</th>\n",
              "      <td>Netflix</td>\n",
              "      <td>Tom</td>\n",
              "      <td>33</td>\n",
              "      <td>120</td>\n",
              "      <td>BA</td>\n",
              "    </tr>\n",
              "    <tr>\n",
              "      <th>5</th>\n",
              "      <td>Alibaba</td>\n",
              "      <td>Zach</td>\n",
              "      <td>36</td>\n",
              "      <td>90</td>\n",
              "      <td>BA</td>\n",
              "    </tr>\n",
              "    <tr>\n",
              "      <th>6</th>\n",
              "      <td>Google</td>\n",
              "      <td>Ted</td>\n",
              "      <td>27</td>\n",
              "      <td>190</td>\n",
              "      <td>Phd</td>\n",
              "    </tr>\n",
              "    <tr>\n",
              "      <th>7</th>\n",
              "      <td>Tecent</td>\n",
              "      <td>Nancy</td>\n",
              "      <td>32</td>\n",
              "      <td>100</td>\n",
              "      <td>MA</td>\n",
              "    </tr>\n",
              "  </tbody>\n",
              "</table>\n",
              "</div>"
            ],
            "text/plain": [
              "     Company   Name  Age  Salary Degree\n",
              "0  Microsoft  Jason   27     120     BA\n",
              "1    Alibaba   Wiki   24      80     MA\n",
              "2  Microsoft   Sara   22     100     MA\n",
              "3     Google   Lucy   32     150    Phd\n",
              "4    Netflix    Tom   33     120     BA\n",
              "5    Alibaba   Zach   36      90     BA\n",
              "6     Google    Ted   27     190    Phd\n",
              "7     Tecent  Nancy   32     100     MA"
            ]
          },
          "metadata": {
            "tags": []
          },
          "execution_count": 50
        }
      ]
    },
    {
      "cell_type": "code",
      "metadata": {
        "id": "ok47AHt0DEoe",
        "colab_type": "code",
        "colab": {
          "base_uri": "https://localhost:8080/",
          "height": 230
        },
        "outputId": "4c6acc87-227f-4ccd-ad27-be49b248ff16"
      },
      "source": [
        "# performing aggregation using aggregate method \n",
        "grp1 = df.groupby('Company') \n",
        "grp1.aggregate(np.sum) \n"
      ],
      "execution_count": 51,
      "outputs": [
        {
          "output_type": "execute_result",
          "data": {
            "text/html": [
              "<div>\n",
              "<style scoped>\n",
              "    .dataframe tbody tr th:only-of-type {\n",
              "        vertical-align: middle;\n",
              "    }\n",
              "\n",
              "    .dataframe tbody tr th {\n",
              "        vertical-align: top;\n",
              "    }\n",
              "\n",
              "    .dataframe thead th {\n",
              "        text-align: right;\n",
              "    }\n",
              "</style>\n",
              "<table border=\"1\" class=\"dataframe\">\n",
              "  <thead>\n",
              "    <tr style=\"text-align: right;\">\n",
              "      <th></th>\n",
              "      <th>Age</th>\n",
              "      <th>Salary</th>\n",
              "    </tr>\n",
              "    <tr>\n",
              "      <th>Company</th>\n",
              "      <th></th>\n",
              "      <th></th>\n",
              "    </tr>\n",
              "  </thead>\n",
              "  <tbody>\n",
              "    <tr>\n",
              "      <th>Alibaba</th>\n",
              "      <td>60</td>\n",
              "      <td>170</td>\n",
              "    </tr>\n",
              "    <tr>\n",
              "      <th>Google</th>\n",
              "      <td>59</td>\n",
              "      <td>340</td>\n",
              "    </tr>\n",
              "    <tr>\n",
              "      <th>Microsoft</th>\n",
              "      <td>49</td>\n",
              "      <td>220</td>\n",
              "    </tr>\n",
              "    <tr>\n",
              "      <th>Netflix</th>\n",
              "      <td>33</td>\n",
              "      <td>120</td>\n",
              "    </tr>\n",
              "    <tr>\n",
              "      <th>Tecent</th>\n",
              "      <td>32</td>\n",
              "      <td>100</td>\n",
              "    </tr>\n",
              "  </tbody>\n",
              "</table>\n",
              "</div>"
            ],
            "text/plain": [
              "           Age  Salary\n",
              "Company               \n",
              "Alibaba     60     170\n",
              "Google      59     340\n",
              "Microsoft   49     220\n",
              "Netflix     33     120\n",
              "Tecent      32     100"
            ]
          },
          "metadata": {
            "tags": []
          },
          "execution_count": 51
        }
      ]
    },
    {
      "cell_type": "code",
      "metadata": {
        "id": "s7o5Bf3UDTBF",
        "colab_type": "code",
        "colab": {
          "base_uri": "https://localhost:8080/",
          "height": 230
        },
        "outputId": "c75b67ed-eacb-49ab-ce44-88b66b663dd8"
      },
      "source": [
        "# applying a function by passing a list of functions \n",
        "grp = df.groupby('Company') \n",
        "grp['Salary'].agg([np.sum, np.mean, np.std]) \n"
      ],
      "execution_count": 52,
      "outputs": [
        {
          "output_type": "execute_result",
          "data": {
            "text/html": [
              "<div>\n",
              "<style scoped>\n",
              "    .dataframe tbody tr th:only-of-type {\n",
              "        vertical-align: middle;\n",
              "    }\n",
              "\n",
              "    .dataframe tbody tr th {\n",
              "        vertical-align: top;\n",
              "    }\n",
              "\n",
              "    .dataframe thead th {\n",
              "        text-align: right;\n",
              "    }\n",
              "</style>\n",
              "<table border=\"1\" class=\"dataframe\">\n",
              "  <thead>\n",
              "    <tr style=\"text-align: right;\">\n",
              "      <th></th>\n",
              "      <th>sum</th>\n",
              "      <th>mean</th>\n",
              "      <th>std</th>\n",
              "    </tr>\n",
              "    <tr>\n",
              "      <th>Company</th>\n",
              "      <th></th>\n",
              "      <th></th>\n",
              "      <th></th>\n",
              "    </tr>\n",
              "  </thead>\n",
              "  <tbody>\n",
              "    <tr>\n",
              "      <th>Alibaba</th>\n",
              "      <td>170</td>\n",
              "      <td>85</td>\n",
              "      <td>7.071068</td>\n",
              "    </tr>\n",
              "    <tr>\n",
              "      <th>Google</th>\n",
              "      <td>340</td>\n",
              "      <td>170</td>\n",
              "      <td>28.284271</td>\n",
              "    </tr>\n",
              "    <tr>\n",
              "      <th>Microsoft</th>\n",
              "      <td>220</td>\n",
              "      <td>110</td>\n",
              "      <td>14.142136</td>\n",
              "    </tr>\n",
              "    <tr>\n",
              "      <th>Netflix</th>\n",
              "      <td>120</td>\n",
              "      <td>120</td>\n",
              "      <td>NaN</td>\n",
              "    </tr>\n",
              "    <tr>\n",
              "      <th>Tecent</th>\n",
              "      <td>100</td>\n",
              "      <td>100</td>\n",
              "      <td>NaN</td>\n",
              "    </tr>\n",
              "  </tbody>\n",
              "</table>\n",
              "</div>"
            ],
            "text/plain": [
              "           sum  mean        std\n",
              "Company                        \n",
              "Alibaba    170    85   7.071068\n",
              "Google     340   170  28.284271\n",
              "Microsoft  220   110  14.142136\n",
              "Netflix    120   120        NaN\n",
              "Tecent     100   100        NaN"
            ]
          },
          "metadata": {
            "tags": []
          },
          "execution_count": 52
        }
      ]
    },
    {
      "cell_type": "code",
      "metadata": {
        "id": "EUycgksqDfCN",
        "colab_type": "code",
        "colab": {
          "base_uri": "https://localhost:8080/",
          "height": 230
        },
        "outputId": "fadb19dc-2198-42c9-b325-d6b42e2edcc1"
      },
      "source": [
        "# using different aggregation function by passing dictionary to aggregate \n",
        "grp = df.groupby('Company') \n",
        "grp.agg({'Age' : 'sum', 'Salary' : 'std'}) \n"
      ],
      "execution_count": 35,
      "outputs": [
        {
          "output_type": "execute_result",
          "data": {
            "text/html": [
              "<div>\n",
              "<style scoped>\n",
              "    .dataframe tbody tr th:only-of-type {\n",
              "        vertical-align: middle;\n",
              "    }\n",
              "\n",
              "    .dataframe tbody tr th {\n",
              "        vertical-align: top;\n",
              "    }\n",
              "\n",
              "    .dataframe thead th {\n",
              "        text-align: right;\n",
              "    }\n",
              "</style>\n",
              "<table border=\"1\" class=\"dataframe\">\n",
              "  <thead>\n",
              "    <tr style=\"text-align: right;\">\n",
              "      <th></th>\n",
              "      <th>Age</th>\n",
              "      <th>Salary</th>\n",
              "    </tr>\n",
              "    <tr>\n",
              "      <th>Company</th>\n",
              "      <th></th>\n",
              "      <th></th>\n",
              "    </tr>\n",
              "  </thead>\n",
              "  <tbody>\n",
              "    <tr>\n",
              "      <th>Alibaba</th>\n",
              "      <td>60</td>\n",
              "      <td>7.071068</td>\n",
              "    </tr>\n",
              "    <tr>\n",
              "      <th>Google</th>\n",
              "      <td>59</td>\n",
              "      <td>28.284271</td>\n",
              "    </tr>\n",
              "    <tr>\n",
              "      <th>Microsoft</th>\n",
              "      <td>49</td>\n",
              "      <td>14.142136</td>\n",
              "    </tr>\n",
              "    <tr>\n",
              "      <th>Netflix</th>\n",
              "      <td>33</td>\n",
              "      <td>NaN</td>\n",
              "    </tr>\n",
              "    <tr>\n",
              "      <th>Tecent</th>\n",
              "      <td>32</td>\n",
              "      <td>NaN</td>\n",
              "    </tr>\n",
              "  </tbody>\n",
              "</table>\n",
              "</div>"
            ],
            "text/plain": [
              "           Age     Salary\n",
              "Company                  \n",
              "Alibaba     60   7.071068\n",
              "Google      59  28.284271\n",
              "Microsoft   49  14.142136\n",
              "Netflix     33        NaN\n",
              "Tecent      32        NaN"
            ]
          },
          "metadata": {
            "tags": []
          },
          "execution_count": 35
        }
      ]
    },
    {
      "cell_type": "code",
      "metadata": {
        "id": "rk7Tj5sCDNvO",
        "colab_type": "code",
        "colab": {
          "base_uri": "https://localhost:8080/",
          "height": 290
        },
        "outputId": "04e4a6f4-46b4-4106-fa72-976a78ec0ba2"
      },
      "source": [
        "# performing aggregation on group containing multiple keys \n",
        "grp1 = df.groupby(['Company', 'Degree']) \n",
        "grp1.aggregate(np.sum) \n"
      ],
      "execution_count": 36,
      "outputs": [
        {
          "output_type": "execute_result",
          "data": {
            "text/html": [
              "<div>\n",
              "<style scoped>\n",
              "    .dataframe tbody tr th:only-of-type {\n",
              "        vertical-align: middle;\n",
              "    }\n",
              "\n",
              "    .dataframe tbody tr th {\n",
              "        vertical-align: top;\n",
              "    }\n",
              "\n",
              "    .dataframe thead th {\n",
              "        text-align: right;\n",
              "    }\n",
              "</style>\n",
              "<table border=\"1\" class=\"dataframe\">\n",
              "  <thead>\n",
              "    <tr style=\"text-align: right;\">\n",
              "      <th></th>\n",
              "      <th></th>\n",
              "      <th>Age</th>\n",
              "      <th>Salary</th>\n",
              "    </tr>\n",
              "    <tr>\n",
              "      <th>Company</th>\n",
              "      <th>Degree</th>\n",
              "      <th></th>\n",
              "      <th></th>\n",
              "    </tr>\n",
              "  </thead>\n",
              "  <tbody>\n",
              "    <tr>\n",
              "      <th rowspan=\"2\" valign=\"top\">Alibaba</th>\n",
              "      <th>BA</th>\n",
              "      <td>36</td>\n",
              "      <td>90</td>\n",
              "    </tr>\n",
              "    <tr>\n",
              "      <th>MA</th>\n",
              "      <td>24</td>\n",
              "      <td>80</td>\n",
              "    </tr>\n",
              "    <tr>\n",
              "      <th>Google</th>\n",
              "      <th>Phd</th>\n",
              "      <td>59</td>\n",
              "      <td>340</td>\n",
              "    </tr>\n",
              "    <tr>\n",
              "      <th rowspan=\"2\" valign=\"top\">Microsoft</th>\n",
              "      <th>BA</th>\n",
              "      <td>27</td>\n",
              "      <td>120</td>\n",
              "    </tr>\n",
              "    <tr>\n",
              "      <th>MA</th>\n",
              "      <td>22</td>\n",
              "      <td>100</td>\n",
              "    </tr>\n",
              "    <tr>\n",
              "      <th>Netflix</th>\n",
              "      <th>BA</th>\n",
              "      <td>33</td>\n",
              "      <td>120</td>\n",
              "    </tr>\n",
              "    <tr>\n",
              "      <th>Tecent</th>\n",
              "      <th>MA</th>\n",
              "      <td>32</td>\n",
              "      <td>100</td>\n",
              "    </tr>\n",
              "  </tbody>\n",
              "</table>\n",
              "</div>"
            ],
            "text/plain": [
              "                  Age  Salary\n",
              "Company   Degree             \n",
              "Alibaba   BA       36      90\n",
              "          MA       24      80\n",
              "Google    Phd      59     340\n",
              "Microsoft BA       27     120\n",
              "          MA       22     100\n",
              "Netflix   BA       33     120\n",
              "Tecent    MA       32     100"
            ]
          },
          "metadata": {
            "tags": []
          },
          "execution_count": 36
        }
      ]
    },
    {
      "cell_type": "code",
      "metadata": {
        "id": "2bT4cgfi6drw",
        "colab_type": "code",
        "colab": {
          "base_uri": "https://localhost:8080/",
          "height": 290
        },
        "outputId": "742fc8a2-853e-4416-8b89-9689998a3f35"
      },
      "source": [
        "# using transform function \n",
        "grp = df.groupby('Company') \n",
        "sc = lambda x: (x - x.mean()) / x.std()*10\n",
        "grp.transform(sc) "
      ],
      "execution_count": 37,
      "outputs": [
        {
          "output_type": "execute_result",
          "data": {
            "text/html": [
              "<div>\n",
              "<style scoped>\n",
              "    .dataframe tbody tr th:only-of-type {\n",
              "        vertical-align: middle;\n",
              "    }\n",
              "\n",
              "    .dataframe tbody tr th {\n",
              "        vertical-align: top;\n",
              "    }\n",
              "\n",
              "    .dataframe thead th {\n",
              "        text-align: right;\n",
              "    }\n",
              "</style>\n",
              "<table border=\"1\" class=\"dataframe\">\n",
              "  <thead>\n",
              "    <tr style=\"text-align: right;\">\n",
              "      <th></th>\n",
              "      <th>Age</th>\n",
              "      <th>Salary</th>\n",
              "    </tr>\n",
              "  </thead>\n",
              "  <tbody>\n",
              "    <tr>\n",
              "      <th>0</th>\n",
              "      <td>7.071068</td>\n",
              "      <td>7.071068</td>\n",
              "    </tr>\n",
              "    <tr>\n",
              "      <th>1</th>\n",
              "      <td>-7.071068</td>\n",
              "      <td>-7.071068</td>\n",
              "    </tr>\n",
              "    <tr>\n",
              "      <th>2</th>\n",
              "      <td>-7.071068</td>\n",
              "      <td>-7.071068</td>\n",
              "    </tr>\n",
              "    <tr>\n",
              "      <th>3</th>\n",
              "      <td>7.071068</td>\n",
              "      <td>-7.071068</td>\n",
              "    </tr>\n",
              "    <tr>\n",
              "      <th>4</th>\n",
              "      <td>NaN</td>\n",
              "      <td>NaN</td>\n",
              "    </tr>\n",
              "    <tr>\n",
              "      <th>5</th>\n",
              "      <td>7.071068</td>\n",
              "      <td>7.071068</td>\n",
              "    </tr>\n",
              "    <tr>\n",
              "      <th>6</th>\n",
              "      <td>-7.071068</td>\n",
              "      <td>7.071068</td>\n",
              "    </tr>\n",
              "    <tr>\n",
              "      <th>7</th>\n",
              "      <td>NaN</td>\n",
              "      <td>NaN</td>\n",
              "    </tr>\n",
              "  </tbody>\n",
              "</table>\n",
              "</div>"
            ],
            "text/plain": [
              "        Age    Salary\n",
              "0  7.071068  7.071068\n",
              "1 -7.071068 -7.071068\n",
              "2 -7.071068 -7.071068\n",
              "3  7.071068 -7.071068\n",
              "4       NaN       NaN\n",
              "5  7.071068  7.071068\n",
              "6 -7.071068  7.071068\n",
              "7       NaN       NaN"
            ]
          },
          "metadata": {
            "tags": []
          },
          "execution_count": 37
        }
      ]
    },
    {
      "cell_type": "code",
      "metadata": {
        "id": "9DmnO0bT6wWt",
        "colab_type": "code",
        "colab": {
          "base_uri": "https://localhost:8080/",
          "height": 230
        },
        "outputId": "2e10a16b-7192-49a9-c64b-dbbbba3ad695"
      },
      "source": [
        "# filtering data using filter data \n",
        "grp = df.groupby('Company') \n",
        "grp.filter(lambda x: len(x) >= 2) \n"
      ],
      "execution_count": 40,
      "outputs": [
        {
          "output_type": "execute_result",
          "data": {
            "text/html": [
              "<div>\n",
              "<style scoped>\n",
              "    .dataframe tbody tr th:only-of-type {\n",
              "        vertical-align: middle;\n",
              "    }\n",
              "\n",
              "    .dataframe tbody tr th {\n",
              "        vertical-align: top;\n",
              "    }\n",
              "\n",
              "    .dataframe thead th {\n",
              "        text-align: right;\n",
              "    }\n",
              "</style>\n",
              "<table border=\"1\" class=\"dataframe\">\n",
              "  <thead>\n",
              "    <tr style=\"text-align: right;\">\n",
              "      <th></th>\n",
              "      <th>Company</th>\n",
              "      <th>Name</th>\n",
              "      <th>Age</th>\n",
              "      <th>Salary</th>\n",
              "      <th>Degree</th>\n",
              "    </tr>\n",
              "  </thead>\n",
              "  <tbody>\n",
              "    <tr>\n",
              "      <th>0</th>\n",
              "      <td>Microsoft</td>\n",
              "      <td>Jason</td>\n",
              "      <td>27</td>\n",
              "      <td>120</td>\n",
              "      <td>BA</td>\n",
              "    </tr>\n",
              "    <tr>\n",
              "      <th>1</th>\n",
              "      <td>Alibaba</td>\n",
              "      <td>Wiki</td>\n",
              "      <td>24</td>\n",
              "      <td>80</td>\n",
              "      <td>MA</td>\n",
              "    </tr>\n",
              "    <tr>\n",
              "      <th>2</th>\n",
              "      <td>Microsoft</td>\n",
              "      <td>Sara</td>\n",
              "      <td>22</td>\n",
              "      <td>100</td>\n",
              "      <td>MA</td>\n",
              "    </tr>\n",
              "    <tr>\n",
              "      <th>3</th>\n",
              "      <td>Google</td>\n",
              "      <td>Lucy</td>\n",
              "      <td>32</td>\n",
              "      <td>150</td>\n",
              "      <td>Phd</td>\n",
              "    </tr>\n",
              "    <tr>\n",
              "      <th>5</th>\n",
              "      <td>Alibaba</td>\n",
              "      <td>Zach</td>\n",
              "      <td>36</td>\n",
              "      <td>90</td>\n",
              "      <td>BA</td>\n",
              "    </tr>\n",
              "    <tr>\n",
              "      <th>6</th>\n",
              "      <td>Google</td>\n",
              "      <td>Ted</td>\n",
              "      <td>27</td>\n",
              "      <td>190</td>\n",
              "      <td>Phd</td>\n",
              "    </tr>\n",
              "  </tbody>\n",
              "</table>\n",
              "</div>"
            ],
            "text/plain": [
              "     Company   Name  Age  Salary Degree\n",
              "0  Microsoft  Jason   27     120     BA\n",
              "1    Alibaba   Wiki   24      80     MA\n",
              "2  Microsoft   Sara   22     100     MA\n",
              "3     Google   Lucy   32     150    Phd\n",
              "5    Alibaba   Zach   36      90     BA\n",
              "6     Google    Ted   27     190    Phd"
            ]
          },
          "metadata": {
            "tags": []
          },
          "execution_count": 40
        }
      ]
    }
  ]
}