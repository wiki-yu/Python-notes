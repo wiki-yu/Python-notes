{
  "nbformat": 4,
  "nbformat_minor": 0,
  "metadata": {
    "colab": {
      "name": "python_notes.ipynb",
      "provenance": []
    },
    "kernelspec": {
      "name": "python3",
      "display_name": "Python 3"
    }
  },
  "cells": [
    {
      "cell_type": "markdown",
      "metadata": {
        "id": "XyDjR3ZbM4vX",
        "colab_type": "text"
      },
      "source": [
        "## 1. Python lambda\n",
        "### (1) What is a lambda function?\n",
        "*  A lambda function is a small anonymous function.\n",
        "*  A lambda function can take any number of arguments, but can only have one expression\n",
        "* lambda argument(s): expression\n"
      ]
    },
    {
      "cell_type": "code",
      "metadata": {
        "id": "SZrZHGHYNOjs",
        "colab_type": "code",
        "colab": {
          "base_uri": "https://localhost:8080/",
          "height": 34
        },
        "outputId": "735dab8e-6713-4e81-955b-66688138bab1"
      },
      "source": [
        "add = lambda a : a + 5\n",
        "print(add(10))"
      ],
      "execution_count": 9,
      "outputs": [
        {
          "output_type": "stream",
          "text": [
            "15\n"
          ],
          "name": "stdout"
        }
      ]
    },
    {
      "cell_type": "code",
      "metadata": {
        "id": "ZnAX_Ll5NoIM",
        "colab_type": "code",
        "colab": {
          "base_uri": "https://localhost:8080/",
          "height": 34
        },
        "outputId": "1dcc5b8e-0792-4521-fb4d-b29000dd3e21"
      },
      "source": [
        "mul = lambda a, b : a * b\n",
        "print(mul(2, 4))"
      ],
      "execution_count": 10,
      "outputs": [
        {
          "output_type": "stream",
          "text": [
            "8\n"
          ],
          "name": "stdout"
        }
      ]
    },
    {
      "cell_type": "code",
      "metadata": {
        "id": "s1hTY6lnOAVs",
        "colab_type": "code",
        "colab": {
          "base_uri": "https://localhost:8080/",
          "height": 34
        },
        "outputId": "cf952730-87ba-488a-e089-97c37f199625"
      },
      "source": [
        "def func(n):\n",
        "    return lambda a : a * n\n",
        "\n",
        "mydoubler = func(2)\n",
        "\n",
        "print(mydoubler(11))"
      ],
      "execution_count": 8,
      "outputs": [
        {
          "output_type": "stream",
          "text": [
            "22\n"
          ],
          "name": "stdout"
        }
      ]
    },
    {
      "cell_type": "markdown",
      "metadata": {
        "id": "b3OyibSNRsFA",
        "colab_type": "text"
      },
      "source": [
        "### (2) Why Use Lambda Functions?\n",
        "* Lambda functions are used when you need a function for a short period of time. \n",
        "* This is commonly used when you want to pass a function as an argument to higher-order functions, that is, functions that take other functions as their arguments."
      ]
    },
    {
      "cell_type": "code",
      "metadata": {
        "id": "YaT7k17QRzN4",
        "colab_type": "code",
        "colab": {
          "base_uri": "https://localhost:8080/",
          "height": 52
        },
        "outputId": "60f58bfd-84d5-48bc-c6dc-80527fa6d913"
      },
      "source": [
        "def myfunc(n):\n",
        "  return lambda x : x * n\n",
        "\n",
        "mydoubler = myfunc(2)\n",
        "mytripler = myfunc(3)\n",
        "\n",
        "print(mydoubler(11))\n",
        "print(mytripler(11))"
      ],
      "execution_count": 11,
      "outputs": [
        {
          "output_type": "stream",
          "text": [
            "22\n",
            "33\n"
          ],
          "name": "stdout"
        }
      ]
    }
  ]
}