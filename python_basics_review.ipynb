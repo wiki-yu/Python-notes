{
  "nbformat": 4,
  "nbformat_minor": 0,
  "metadata": {
    "colab": {
      "name": "python_basics_review.ipynb",
      "provenance": [],
      "collapsed_sections": [],
      "toc_visible": true
    },
    "kernelspec": {
      "name": "python3",
      "display_name": "Python 3"
    }
  },
  "cells": [
    {
      "cell_type": "markdown",
      "metadata": {
        "id": "wX1cLhssPrwz",
        "colab_type": "text"
      },
      "source": [
        "###1. Pay attention to global variable"
      ]
    },
    {
      "cell_type": "code",
      "metadata": {
        "id": "xvwO31jJPxNN",
        "colab_type": "code",
        "colab": {
          "base_uri": "https://localhost:8080/",
          "height": 35
        },
        "outputId": "380edc96-9041-4092-a955-d7655c21f05e"
      },
      "source": [
        "opinion = \"awesome\"\n",
        "\n",
        "def my_func():\n",
        "    global opinion\n",
        "    opinion = \"cool\"\n",
        "\n",
        "my_func()\n",
        "print(\"Python is \" + opinion)"
      ],
      "execution_count": 2,
      "outputs": [
        {
          "output_type": "stream",
          "text": [
            "Python is cool\n"
          ],
          "name": "stdout"
        }
      ]
    },
    {
      "cell_type": "markdown",
      "metadata": {
        "id": "hA2Nu1FhQi1y",
        "colab_type": "text"
      },
      "source": [
        "###2. Data Type\n",
        "\n",
        "Python has the following data types built-in by default:\n",
        "\n",
        "* Text Type:\tstr\n",
        "* Numeric Types:\tint, float, complex\n",
        "* Sequence Types:\tlist, tuple, range\n",
        "* Mapping Type:\tdict\n",
        "* Set Types:\tset, frozenset\n",
        "* Boolean Type:\tbool\n",
        "* Binary Types:\tbytes, bytearray, memoryview"
      ]
    },
    {
      "cell_type": "code",
      "metadata": {
        "id": "j0i65gH9QmaV",
        "colab_type": "code",
        "colab": {
          "base_uri": "https://localhost:8080/",
          "height": 35
        },
        "outputId": "e0fd894c-c4f9-41de-81e1-c476c47f7eed"
      },
      "source": [
        "# get data type\n",
        "x = 5\n",
        "y = 1j\n",
        "z = range(6)\n",
        "print(type(x), type(y), type(z))"
      ],
      "execution_count": 3,
      "outputs": [
        {
          "output_type": "stream",
          "text": [
            "<class 'int'> <class 'complex'> <class 'range'>\n"
          ],
          "name": "stdout"
        }
      ]
    },
    {
      "cell_type": "markdown",
      "metadata": {
        "id": "3SJQzx3zSP53",
        "colab_type": "text"
      },
      "source": [
        "### 3. Python string processing"
      ]
    },
    {
      "cell_type": "code",
      "metadata": {
        "id": "2XtM2A6ESWYr",
        "colab_type": "code",
        "colab": {
          "base_uri": "https://localhost:8080/",
          "height": 181
        },
        "outputId": "7c012d9e-93d9-4967-d1cb-0865966a8b0c"
      },
      "source": [
        "# Python casting\n",
        "x = str(3.0)\n",
        "print(type(x))\n",
        "\n",
        "# List slicing\n",
        "string = \"Hello, World! \"\n",
        "print(string[1:5])\n",
        "print(string[-5:-1])\n",
        "\n",
        "# The strip() method removes the whitespace of the string on both sides\n",
        "string = \"  Hello, World! \"\n",
        "print(string.strip())  # returns \"Hello, World!\"\n",
        "\n",
        "# The split() method splits the string into substrings if it finds instances of the separator\n",
        "string = \"Hello, World!\"\n",
        "print(string.split(\",\")) # returns ['Hello', ' World!']\n",
        "\n",
        "string = \"Hello, World!\"\n",
        "print(string.lower())\n",
        "print(string.upper())\n",
        "\n",
        "string = \"Hello, World!\"\n",
        "print(string.replace(\"H\", \"J\"))\n",
        "\n",
        "txt = \"The rain in Spain stays mainly in the plain\"\n",
        "x = \"ain\" in txt\n",
        "print(x)\n"
      ],
      "execution_count": 1,
      "outputs": [
        {
          "output_type": "stream",
          "text": [
            "<class 'str'>\n",
            "ello\n",
            "rld!\n",
            "Hello, World!\n",
            "['Hello', ' World!']\n",
            "hello, world!\n",
            "HELLO, WORLD!\n",
            "Jello, World!\n",
            "True\n"
          ],
          "name": "stdout"
        }
      ]
    },
    {
      "cell_type": "markdown",
      "metadata": {
        "id": "rlnrUOpu4G6z",
        "colab_type": "text"
      },
      "source": [
        "### 4. Python list/array \n",
        "* Python does not have built-in support for Arrays, but Python Lists can be used instead.\n",
        "* however, to work with arrays in Python you will have to import a library, like the NumPy library.\n",
        "\n",
        "List Method\tDescription\n",
        "* append()\tAdds an element at the end of the list\n",
        "* clear()\tRemoves all the elements from the list\n",
        "* copy()\tReturns a copy of the list\n",
        "* count()\tReturns the number of elements with the specified value\n",
        "* extend()\tAdd the elements of a list (or any iterable), to the end of the current list\n",
        "* index()\tReturns the index of the first element with the specified value\n",
        "* insert()\tAdds an element at the specified position\n",
        "* pop()\tRemoves the element at the specified position\n",
        "* remove()\tRemoves the item with the specified value\n",
        "* reverse()\tReverses the order of the list\n",
        "* sort()\tSorts the list"
      ]
    },
    {
      "cell_type": "code",
      "metadata": {
        "id": "S3TG4xZI3spB",
        "colab_type": "code",
        "colab": {
          "base_uri": "https://localhost:8080/",
          "height": 145
        },
        "outputId": "31748afd-353c-435f-b0e4-ae07a42fa018"
      },
      "source": [
        "thislist = [\"apple\", \"banana\", \"cherry\", \"orange\", \"kiwi\", \"melon\", \"mango\"]\n",
        "print(thislist[-4:-1])\n",
        "\n",
        "thislist = [\"apple\", \"banana\", \"cherry\"]\n",
        "thislist.append(\"orange\")\n",
        "print(thislist)\n",
        "\n",
        "thislist = [\"apple\", \"banana\", \"cherry\"]\n",
        "thislist.insert(1, \"orange\")\n",
        "print(thislist)\n",
        "\n",
        "thislist = [\"apple\", \"banana\", \"cherry\"]\n",
        "thislist.remove(\"banana\")\n",
        "print(thislist)\n",
        "\n",
        "thislist = [\"apple\", \"banana\", \"cherry\"]\n",
        "thislist.pop()\n",
        "print(thislist)\n",
        "\n",
        "thislist = [\"apple\", \"banana\", \"cherry\"]\n",
        "del thislist[0]\n",
        "print(thislist)\n",
        "\n",
        "thislist = [\"apple\", \"banana\", \"cherry\"]\n",
        "thislist.clear()\n",
        "print(thislist)\n"
      ],
      "execution_count": 4,
      "outputs": [
        {
          "output_type": "stream",
          "text": [
            "['orange', 'kiwi', 'melon']\n",
            "['apple', 'banana', 'cherry', 'orange']\n",
            "['apple', 'orange', 'banana', 'cherry']\n",
            "['apple', 'cherry']\n",
            "['apple', 'banana']\n",
            "['banana', 'cherry']\n",
            "[]\n"
          ],
          "name": "stdout"
        }
      ]
    },
    {
      "cell_type": "markdown",
      "metadata": {
        "id": "_XVorP8BBIgR",
        "colab_type": "text"
      },
      "source": [
        "### 5. Python dictionary processing\n",
        "\n",
        "Method\tDescription\n",
        "* clear()\tRemoves all the elements from the dictionary\n",
        "* copy()\tReturns a copy of the dictionary\n",
        "* fromkeys()\tReturns a dictionary with the specified keys and value\n",
        "* get()\tReturns the value of the specified key\n",
        "* items()\tReturns a list containing a tuple for each key value pair\n",
        "* keys()\tReturns a list containing the dictionary's keys\n",
        "* pop()\tRemoves the element with the specified key\n",
        "* popitem()\tRemoves the last inserted key-value pair\n",
        "* setdefault()\tReturns the value of the specified key. If the key does not exist: insert the key, with the specified value\n",
        "* update()\tUpdates the dictionary with the specified key-value pairs\n",
        "* values()\tReturns a list of all the values in the dictionary"
      ]
    },
    {
      "cell_type": "code",
      "metadata": {
        "id": "aIjOtiMOBIJP",
        "colab_type": "code",
        "colab": {
          "base_uri": "https://localhost:8080/",
          "height": 199
        },
        "outputId": "5d325e77-78e8-44d3-ebf1-4a819754a059"
      },
      "source": [
        "thisdict = {\n",
        "  \"brand\": \"Ford\",\n",
        "  \"model\": \"Mustang\",\n",
        "  \"year\": 1964\n",
        "}\n",
        "thisdict[\"year\"] = 2018\n",
        "\n",
        "for x in thisdict.values():\n",
        "  print(x)\n",
        "\n",
        "for x, y in thisdict.items():\n",
        "  print(x, y)\n",
        "\n",
        "thisdict.pop(\"model\")\n",
        "print(thisdict)\n",
        "\n",
        "thisdict = {\n",
        "  \"brand\": \"Ford\",\n",
        "  \"model\": \"Mustang\",\n",
        "  \"year\": 1964\n",
        "}\n",
        "thisdict.popitem()\n",
        "print(thisdict)\n",
        "\n",
        "thisdict = {\n",
        "  \"brand\": \"Ford\",\n",
        "  \"model\": \"Mustang\",\n",
        "  \"year\": 1964\n",
        "}\n",
        "del thisdict[\"model\"]\n",
        "print(thisdict)\n",
        "\n",
        "thisdict = {\n",
        "  \"brand\": \"Ford\",\n",
        "  \"model\": \"Mustang\",\n",
        "  \"year\": 1964\n",
        "}\n",
        "thisdict.clear()\n",
        "print(thisdict)"
      ],
      "execution_count": 5,
      "outputs": [
        {
          "output_type": "stream",
          "text": [
            "Ford\n",
            "Mustang\n",
            "2018\n",
            "brand Ford\n",
            "model Mustang\n",
            "year 2018\n",
            "{'brand': 'Ford', 'year': 2018}\n",
            "{'brand': 'Ford', 'model': 'Mustang'}\n",
            "{'brand': 'Ford', 'year': 1964}\n",
            "{}\n"
          ],
          "name": "stdout"
        }
      ]
    },
    {
      "cell_type": "markdown",
      "metadata": {
        "id": "snZoO_mKIsMw",
        "colab_type": "text"
      },
      "source": [
        "### 6. Python Lambda function\n",
        "* A lambda function is a small anonymous function.\n",
        "* A lambda function can take any number of arguments, but can only have one expression.\n",
        "* The syntax of lambda functions is shown below, The expression is always executed and returned.\n",
        "* lambda arguments: expression\n"
      ]
    },
    {
      "cell_type": "code",
      "metadata": {
        "id": "kkk5r26AJScN",
        "colab_type": "code",
        "colab": {
          "base_uri": "https://localhost:8080/",
          "height": 35
        },
        "outputId": "44d99b3e-d4ff-43c3-d468-729a919ebdaf"
      },
      "source": [
        "x = lambda a, b, c : a + b + c\n",
        "print(x(5, 6, 2))\n"
      ],
      "execution_count": 6,
      "outputs": [
        {
          "output_type": "stream",
          "text": [
            "13\n"
          ],
          "name": "stdout"
        }
      ]
    },
    {
      "cell_type": "code",
      "metadata": {
        "id": "wxnPXC9OMKki",
        "colab_type": "code",
        "colab": {
          "base_uri": "https://localhost:8080/",
          "height": 35
        },
        "outputId": "09aa3d21-6da7-414c-ecfb-6c9b49d299c6"
      },
      "source": [
        "def myfunc(n):\n",
        "  return lambda a : a * n\n",
        "\n",
        "mydoubler = myfunc(2)\n",
        "print(mydoubler(11))"
      ],
      "execution_count": 7,
      "outputs": [
        {
          "output_type": "stream",
          "text": [
            "22\n"
          ],
          "name": "stdout"
        }
      ]
    },
    {
      "cell_type": "markdown",
      "metadata": {
        "id": "rPGgrsQCQdHW",
        "colab_type": "text"
      },
      "source": [
        "### 7. Python Classes and Objects\n",
        "* All classes have a function called __init__(), which is always executed when the class is being initiated.\n",
        "* Use the __init__() function to assign values to object properties, or other operations that are necessary to do when the object is being created"
      ]
    },
    {
      "cell_type": "code",
      "metadata": {
        "id": "V0LVhbWvQe8w",
        "colab_type": "code",
        "colab": {
          "base_uri": "https://localhost:8080/",
          "height": 35
        },
        "outputId": "bc45c14a-b9cc-411f-c3d4-4ee7a3e55158"
      },
      "source": [
        "class Person:\n",
        "    def __init__(self, name, age):\n",
        "        self.name = name\n",
        "        self.age = age\n",
        "p1 = Person(\"wiki\", 33)\n",
        "print(p1.name, p1.age)\n"
      ],
      "execution_count": 18,
      "outputs": [
        {
          "output_type": "stream",
          "text": [
            "wiki 33\n"
          ],
          "name": "stdout"
        }
      ]
    },
    {
      "cell_type": "code",
      "metadata": {
        "id": "42jaNyuyR49Q",
        "colab_type": "code",
        "colab": {
          "base_uri": "https://localhost:8080/",
          "height": 35
        },
        "outputId": "eef3993e-9a92-4b9e-ddd0-8147f90863e2"
      },
      "source": [
        "class Person:\n",
        "    def __init__(self, name, age):\n",
        "        self.name = name\n",
        "        self.age = age\n",
        "    def my_func(self):\n",
        "        print(\"My name is \" + self.name)\n",
        "p1 = Person(\"wiki\", 33)\n",
        "p1.my_func()\n"
      ],
      "execution_count": 17,
      "outputs": [
        {
          "output_type": "stream",
          "text": [
            "My name is wiki\n"
          ],
          "name": "stdout"
        }
      ]
    },
    {
      "cell_type": "code",
      "metadata": {
        "id": "sRjV67r2RllV",
        "colab_type": "code",
        "colab": {
          "base_uri": "https://localhost:8080/",
          "height": 54
        },
        "outputId": "105af563-7c8b-4223-c535-826a2813d2c1"
      },
      "source": [
        "# Inheritance allows us to define a class that inherits all the methods and properties from another class.\n",
        "\n",
        "# Create a Parent Class\n",
        "class Person:\n",
        "    def __init__(self, fname, lname):\n",
        "        self.first_name = fname\n",
        "        self.last_name = lname\n",
        "    \n",
        "    def print_name(self):\n",
        "        print(self.first_name, self.last_name)\n",
        "\n",
        "x = Person(\"Wiki\", \"Yu\")\n",
        "x.print_name()\n",
        "\n",
        "# Create a child class\n",
        "class Student(Person):\n",
        "    pass\n",
        "    \n",
        "x = Student(\"Mike\", \"Franklin\")\n",
        "x.print_name()\n"
      ],
      "execution_count": 12,
      "outputs": [
        {
          "output_type": "stream",
          "text": [
            "Wiki Yu\n",
            "Mike Franklin\n"
          ],
          "name": "stdout"
        }
      ]
    },
    {
      "cell_type": "code",
      "metadata": {
        "id": "Qnzw7WFPGCTN",
        "colab_type": "code",
        "colab": {
          "base_uri": "https://localhost:8080/",
          "height": 35
        },
        "outputId": "cbe84a69-1cea-47d0-8157-017b9a55f35e"
      },
      "source": [
        "# When you add the __init__() function, the child class will no longer inherit the parent's __init__() function\n",
        "# The child's __init__() function overrides the inheritance of the parent's __init__() function.\n",
        "# To keep the inheritance of the parent's __init__() function, add a call to the parent's __init__() function\n",
        "\n",
        "class Person:\n",
        "  def __init__(self, fname, lname):\n",
        "    self.firstname = fname\n",
        "    self.lastname = lname\n",
        "\n",
        "  def printname(self):\n",
        "    print(self.firstname, self.lastname)\n",
        "\n",
        "class Student(Person):\n",
        "  def __init__(self, fname, lname):\n",
        "    Person.__init__(self, fname, lname)\n",
        "\n",
        "x = Student(\"Mike\", \"Olsen\")\n",
        "x.printname()\n"
      ],
      "execution_count": 13,
      "outputs": [
        {
          "output_type": "stream",
          "text": [
            "Mike Olsen\n"
          ],
          "name": "stdout"
        }
      ]
    },
    {
      "cell_type": "code",
      "metadata": {
        "id": "a-TvG6w7F7UU",
        "colab_type": "code",
        "colab": {
          "base_uri": "https://localhost:8080/",
          "height": 35
        },
        "outputId": "3498b596-a4cb-497b-e310-696752cea1ea"
      },
      "source": [
        "# Use the super() Function\n",
        "# Python also has a super() function that will make the child class inherit all the methods and properties from its parent:\n",
        "# By using the super() function, you do not have to use the name of the parent element, it will automatically inherit the methods and properties from its parent.\n",
        "\n",
        "class Person:\n",
        "  def __init__(self, fname, lname):\n",
        "    self.firstname = fname\n",
        "    self.lastname = lname\n",
        "\n",
        "  def printname(self):\n",
        "    print(self.firstname, self.lastname)\n",
        "\n",
        "class Student(Person):\n",
        "  def __init__(self, fname, lname):\n",
        "    super().__init__(fname, lname)\n",
        "\n",
        "x = Student(\"Mike\", \"Olsen\")\n",
        "x.printname()\n"
      ],
      "execution_count": 14,
      "outputs": [
        {
          "output_type": "stream",
          "text": [
            "Mike Olsen\n"
          ],
          "name": "stdout"
        }
      ]
    },
    {
      "cell_type": "code",
      "metadata": {
        "id": "LkMAEjD_GuxN",
        "colab_type": "code",
        "colab": {
          "base_uri": "https://localhost:8080/",
          "height": 35
        },
        "outputId": "72d54096-666c-4dcc-c113-0b29596c8293"
      },
      "source": [
        "# Add a property to the child class\n",
        "\n",
        "class Person:\n",
        "  def __init__(self, fname, lname):\n",
        "    self.firstname = fname\n",
        "    self.lastname = lname\n",
        "\n",
        "  def printname(self):\n",
        "    print(self.firstname, self.lastname)\n",
        "\n",
        "class Student(Person):\n",
        "  def __init__(self, fname, lname):\n",
        "    super().__init__(fname, lname)\n",
        "    self.graduationyear = 2019\n",
        "\n",
        "x = Student(\"Mike\", \"Olsen\")\n",
        "print(x.graduationyear)\n"
      ],
      "execution_count": 15,
      "outputs": [
        {
          "output_type": "stream",
          "text": [
            "2019\n"
          ],
          "name": "stdout"
        }
      ]
    },
    {
      "cell_type": "code",
      "metadata": {
        "id": "HbgJW766HAEo",
        "colab_type": "code",
        "colab": {
          "base_uri": "https://localhost:8080/",
          "height": 35
        },
        "outputId": "49e6b17f-bf50-4899-d540-0cbd4feee32b"
      },
      "source": [
        "# add property and method to the child class\n",
        "\n",
        "class Person:\n",
        "  def __init__(self, fname, lname):\n",
        "    self.firstname = fname\n",
        "    self.lastname = lname\n",
        "\n",
        "  def printname(self):\n",
        "    print(self.firstname, self.lastname)\n",
        "\n",
        "class Student(Person):\n",
        "  def __init__(self, fname, lname, year):\n",
        "    super().__init__(fname, lname)\n",
        "    self.graduationyear = year\n",
        "\n",
        "  def welcome(self):\n",
        "    print(\"Welcome\", self.firstname, self.lastname, \"to the class of\", self.graduationyear)\n",
        "\n",
        "x = Student(\"Mike\", \"Olsen\", 2019)\n",
        "x.welcome()\n"
      ],
      "execution_count": 16,
      "outputs": [
        {
          "output_type": "stream",
          "text": [
            "Welcome Mike Olsen to the class of 2019\n"
          ],
          "name": "stdout"
        }
      ]
    },
    {
      "cell_type": "markdown",
      "metadata": {
        "id": "_ypr3rMx7tuP",
        "colab_type": "text"
      },
      "source": [
        "### 8. Python Iterators\n",
        "* An iterator is an object that can be iterated upon, meaning that you can traverse through all the values.\n",
        "* Lists, tuples, dictionaries, and sets are all iterable objects. \n",
        "\n"
      ]
    },
    {
      "cell_type": "code",
      "metadata": {
        "id": "HuXF7Oyp7y9d",
        "colab_type": "code",
        "colab": {
          "base_uri": "https://localhost:8080/",
          "height": 72
        },
        "outputId": "e3b542ee-6940-437b-9b81-bd05d18d3c33"
      },
      "source": [
        "mytuple = (\"apple\", \"banana\", \"cherry\")\n",
        "myit = iter(mytuple)\n",
        "\n",
        "print(next(myit))\n",
        "print(next(myit))\n",
        "print(next(myit))"
      ],
      "execution_count": 19,
      "outputs": [
        {
          "output_type": "stream",
          "text": [
            "apple\n",
            "banana\n",
            "cherry\n"
          ],
          "name": "stdout"
        }
      ]
    },
    {
      "cell_type": "code",
      "metadata": {
        "id": "UMpJgNB48K4k",
        "colab_type": "code",
        "colab": {
          "base_uri": "https://localhost:8080/",
          "height": 72
        },
        "outputId": "a98b3228-014d-4fe9-dd03-5ec43a3f72cb"
      },
      "source": [
        "# We can also use a for loop to iterate through an iterable object\n",
        "\n",
        "mytuple = (\"apple\", \"banana\", \"cherry\")\n",
        "for x in mytuple:\n",
        "  print(x)"
      ],
      "execution_count": 20,
      "outputs": [
        {
          "output_type": "stream",
          "text": [
            "apple\n",
            "banana\n",
            "cherry\n"
          ],
          "name": "stdout"
        }
      ]
    }
  ]
}