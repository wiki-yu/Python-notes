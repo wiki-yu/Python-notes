{
  "nbformat": 4,
  "nbformat_minor": 0,
  "metadata": {
    "kernelspec": {
      "display_name": "Python 3",
      "language": "python",
      "name": "python3"
    },
    "language_info": {
      "codemirror_mode": {
        "name": "ipython",
        "version": 3
      },
      "file_extension": ".py",
      "mimetype": "text/x-python",
      "name": "python",
      "nbconvert_exporter": "python",
      "pygments_lexer": "ipython3",
      "version": "3.7.4"
    },
    "colab": {
      "name": "python_os_glob_module.ipynb",
      "provenance": []
    }
  },
  "cells": [
    {
      "cell_type": "code",
      "metadata": {
        "id": "fupOBU40LduN"
      },
      "source": [
        "import os\n",
        "import glob"
      ],
      "execution_count": 49,
      "outputs": []
    },
    {
      "cell_type": "markdown",
      "metadata": {
        "id": "f6oUS9zg9Wp6"
      },
      "source": [
        "\n",
        "*   **The OS module in Python provides functions for interacting with the operating system. OS comes under Python’s standard utility modules.**\n",
        "*   **The glob module is used to retrieve files/pathnames matching a specified pattern. The pattern rules of glob follow standard Unix path expansion rules**\n",
        "\n"
      ]
    },
    {
      "cell_type": "markdown",
      "metadata": {
        "id": "J0bmHICCPqS-"
      },
      "source": [
        "## 1. os.getcwd\n",
        "\n",
        "get the current working directory (CWD)"
      ]
    },
    {
      "cell_type": "code",
      "metadata": {
        "colab": {
          "base_uri": "https://localhost:8080/"
        },
        "id": "GxhSonSMLyQq",
        "outputId": "6ce78a3d-ea56-42bb-8421-445f3b55815d"
      },
      "source": [
        "cwd = os.getcwd()\n",
        "print('Current working directory:', cwd)"
      ],
      "execution_count": 27,
      "outputs": [
        {
          "output_type": "stream",
          "name": "stdout",
          "text": [
            "Current working directory: /content\n"
          ]
        }
      ]
    },
    {
      "cell_type": "markdown",
      "metadata": {
        "id": "E8zYv-CiQU5W"
      },
      "source": [
        "## 2(1). os.mkdir()\n",
        "## 2(2) os.makedirs()\n",
        "\n",
        "\n",
        "*   os.mkdir() is used to create a directory. This method raises FileExistsError if the directory to be created already exists.\n",
        "*   os.makedirs() is used to create a directory recursively. \n",
        "\n",
        "\n",
        "\n"
      ]
    },
    {
      "cell_type": "code",
      "metadata": {
        "id": "5GjiJlBWMhOo"
      },
      "source": [
        "os.mkdir('test_folder1')\n",
        "path = os.path.join('./test_folder2', 'sub_folder2-1')\n",
        "os.makedirs(path)"
      ],
      "execution_count": 28,
      "outputs": []
    },
    {
      "cell_type": "markdown",
      "metadata": {
        "id": "bqUMuaL1QlfV"
      },
      "source": [
        "## 3(1) os.remove()\n",
        "## 3(2) os.rmdir()\n",
        "## 3(3) os.path.exists\n",
        "\n",
        "*   os.remove() is used to remove or delete a file path. \n",
        "*   os.rmdir() method in Python is used to remove or delete an empty directory. \n",
        "*   os.path.exists() method is used to check either file or directory exists\n",
        "\n",
        "\n",
        "\n",
        " "
      ]
    },
    {
      "cell_type": "code",
      "metadata": {
        "id": "qeyySIwVPL0O"
      },
      "source": [
        "isExist = os.path.exists('./test_folder1') \n",
        "if isExist:\n",
        "    os.rmdir('./test_folder1')\n",
        "\n",
        "isExist = os.path.exists('./test_folder2/sub_folder2-1')\n",
        "if isExist:\n",
        "    os.rmdir('./test_folder2/sub_folder2-1')\n",
        "    os.rmdir('./test_folder2')\n"
      ],
      "execution_count": 29,
      "outputs": []
    },
    {
      "cell_type": "markdown",
      "metadata": {
        "id": "j_xsu-vjLduP"
      },
      "source": [
        "## 4. os.listdir()\n",
        "* os.listdir() which lists all filenames and directories in a given folder path\n",
        "* get the file path with the os.path.join() function, since os.listdir() only returns the names. \n",
        "* To get the absolute path from a relative path you can additionally use the os.path.abspath()."
      ]
    },
    {
      "cell_type": "code",
      "metadata": {
        "colab": {
          "base_uri": "https://localhost:8080/"
        },
        "id": "Ev6GqdCCLduR",
        "outputId": "52fff23e-1f47-45af-a0d4-72abc1391166"
      },
      "source": [
        "# !rm -rf test_folder\n",
        "\n",
        "# Create a directory and several files for testing\n",
        "os.mkdir('test_folder')\n",
        "os.makedirs(os.path.join('test_folder', 'sub_folder1'))\n",
        "with open('./test_folder/test1.txt', 'w+') as f:\n",
        "    f.write(\"test1 txt\")\n",
        "with open('./test_folder/test2.txt', 'w+') as f:\n",
        "    f.write(\"test2 txt\")\n",
        "with open('./test_folder/sub_folder1/test1.txt', 'w+') as f:\n",
        "    f.write(\"sub folder test1 txt\")\n",
        "\n",
        "\n",
        "# os.listdir() returns the directory and file names under this folder\n",
        "dir_names = os.listdir('test_folder') \n",
        "print(dir_names)\n",
        "\n",
        "# Combine the path and name using slash in Linux or a backslash in Windows is OK\n",
        "# But os.path.join() function makes sure that the code works platform-independently\n",
        "dir_paths = [os.path.join('test_folder', f) for f in os.listdir('test_folder')]\n",
        "print(dir_paths)"
      ],
      "execution_count": 40,
      "outputs": [
        {
          "output_type": "stream",
          "name": "stdout",
          "text": [
            "['test1.txt', 'sub_folder1', 'test2.txt']\n",
            "['test_folder/test1.txt', 'test_folder/sub_folder1', 'test_folder/test2.txt']\n"
          ]
        }
      ]
    },
    {
      "cell_type": "markdown",
      "metadata": {
        "id": "ABTFvrMlLduS"
      },
      "source": [
        "## 5. os.walk()\n",
        "*  get all files and directories recursively\n",
        "* os.walk() function generates the file names in a directory tree by walking the tree either top-down or bottom-up.\n",
        "* walk the file tree bottom up by adding the argument topdown=False to the os.walk()\n",
        "* the os.walk() function uses os.scandir() in the background to increase the speed quite significantly. "
      ]
    },
    {
      "cell_type": "code",
      "metadata": {
        "colab": {
          "base_uri": "https://localhost:8080/"
        },
        "id": "z-u3s_O8LduS",
        "outputId": "8710df68-e716-41cf-df34-cd1cd1b82f6a"
      },
      "source": [
        "for (dir_path, dir_names, file_names) in os.walk('./test_folder'):\n",
        "    # print('dir path: ', dir_path)\n",
        "    # print('dir names: ', dir_names)\n",
        "    # print('file names: ', file_names)\n",
        "    for f in file_names:\n",
        "        print('FILE:', os.path.join(dir_path, f))"
      ],
      "execution_count": 43,
      "outputs": [
        {
          "output_type": "stream",
          "name": "stdout",
          "text": [
            "FILE: ./test_folder/test1.txt\n",
            "FILE: ./test_folder/test2.txt\n",
            "FILE: ./test_folder/sub_folder1/test1.txt\n"
          ]
        }
      ]
    },
    {
      "cell_type": "markdown",
      "metadata": {
        "id": "bSWrAbZBLduS"
      },
      "source": [
        "## 6. glob.glob()\n",
        "Another module that we can use to traverse the file system is the glob module."
      ]
    },
    {
      "cell_type": "code",
      "metadata": {
        "colab": {
          "base_uri": "https://localhost:8080/"
        },
        "id": "9mHxLsWCLduT",
        "outputId": "3bb5a278-cf89-4ce8-91db-9e461b6f5622"
      },
      "source": [
        "files1 = glob.glob('./test_folder/*.txt', recursive = True)\n",
        "print(files1)\n",
        "\n",
        "# When recursive is set True, './**/' will match any files or directories.\n",
        "files2 = glob.glob('./test_folder/**/*.txt', recursive = True)\n",
        "print(files2)"
      ],
      "execution_count": 59,
      "outputs": [
        {
          "output_type": "stream",
          "name": "stdout",
          "text": [
            "['./test_folder/test1.txt', './test_folder/test2.txt']\n",
            "['./test_folder/test1.txt', './test_folder/test2.txt', './test_folder/sub_folder1/test1.txt']\n"
          ]
        }
      ]
    },
    {
      "cell_type": "code",
      "metadata": {
        "colab": {
          "base_uri": "https://localhost:8080/"
        },
        "id": "DggJc-2uHVaS",
        "outputId": "01beb2e9-ea34-47c1-d2c8-81f2e68d5dfb"
      },
      "source": [
        "# pattern matching\n",
        "for name in glob.glob('test_folder/*'):\n",
        "    print(\"Fit pattern1: \", name)\n",
        "\n",
        "for name in glob.glob('test_folder/*[0-9].*'): \n",
        "    print(\"Fit pattern2: \", name)"
      ],
      "execution_count": 65,
      "outputs": [
        {
          "output_type": "stream",
          "name": "stdout",
          "text": [
            "Fit pattern1:  test_folder/test1.txt\n",
            "Fit pattern1:  test_folder/sub_folder1\n",
            "Fit pattern1:  test_folder/test2.txt\n",
            "Fit pattern2:  test_folder/test1.txt\n",
            "Fit pattern2:  test_folder/test2.txt\n"
          ]
        }
      ]
    }
  ]
}